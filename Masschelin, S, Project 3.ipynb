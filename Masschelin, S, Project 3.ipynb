{
 "cells": [
  {
   "cell_type": "code",
   "execution_count": 246,
   "metadata": {
    "ExecuteTime": {
     "end_time": "2017-11-03T09:27:03.035384Z",
     "start_time": "2017-11-03T09:27:03.019050Z"
    }
   },
   "outputs": [],
   "source": [
    "import requests \n",
    "import urllib\n",
    "import urllib3\n",
    "import time\n",
    "import pandas as pd\n",
    "import re\n",
    "import csv\n",
    "import numpy as np\n",
    "import copy\n",
    "import seaborn as sns\n",
    "import nltk\n",
    "import matplotlib.pyplot as plt\n",
    "import statsmodels.formula.api as sm\n",
    "from bs4 import BeautifulSoup\n",
    "from lxml.html.soupparser import fromstring\n",
    "from uuid import uuid4 as uuid\n",
    "from lxml import html\n",
    "from datetime import datetime\n",
    "\n",
    "%matplotlib inline"
   ]
  },
  {
   "cell_type": "markdown",
   "metadata": {
    "heading_collapsed": true
   },
   "source": [
    "# Scraping and, Importing, and Cleaning"
   ]
  },
  {
   "cell_type": "code",
   "execution_count": 2,
   "metadata": {
    "ExecuteTime": {
     "end_time": "2017-11-03T01:55:40.468667Z",
     "start_time": "2017-11-03T01:55:40.307586Z"
    },
    "hidden": true
   },
   "outputs": [],
   "source": [
    "def scrape_and_bake(url):\n",
    "    testframe = pd.DataFrame(columns=['author', 'subreddit', 'timestamp',\n",
    "                   'rank', 'comments', 'score', 'crossposts', 'full_name', 'title', 'elapsed'])    \n",
    "    for i in range(1,1001):\n",
    "        \n",
    "        pattern = re.compile('thing id')\n",
    "        html = requests.get(url ,headers={\"User-agent\": str(uuid())})\n",
    "        soup = BeautifulSoup(html.text, 'lxml')\n",
    "\n",
    "        for post in soup.find_all('div', {'class' : pattern}):\n",
    "            try:\n",
    "                author = post['data-author']\n",
    "            except:\n",
    "                None\n",
    "            try:\n",
    "                subreddit = post['data-subreddit']\n",
    "            except:\n",
    "                None\n",
    "            try:\n",
    "                ID = post['id']\n",
    "            except:\n",
    "                None\n",
    "            try:\n",
    "                timestamp = post['data-timestamp']\n",
    "            except:\n",
    "                None\n",
    "            try:\n",
    "                rank = post['data-rank']\n",
    "            except:\n",
    "                None\n",
    "            try:\n",
    "                comments = post['data-comments-count']\n",
    "            except:\n",
    "                None\n",
    "            try:\n",
    "                score = post['data-score']\n",
    "            except:\n",
    "                None\n",
    "            try:\n",
    "                crossposts = post['data-num-crossposts']\n",
    "            except:\n",
    "                None\n",
    "            try:\n",
    "                full_name = post['data-fullname']\n",
    "            except:\n",
    "                None\n",
    "                \n",
    "            try:\n",
    "                title = post.find('a', {'data-event-action': 'title'}).text\n",
    "            except:\n",
    "                None\n",
    "            try:\n",
    "                elapsed = post.find('time', {'class': 'live-timestamp'}).text\n",
    "            except:\n",
    "                None\n",
    "\n",
    "\n",
    "            testframe.loc[len(testframe)] = [author, subreddit, timestamp,\n",
    "                   rank, comments, score, crossposts, full_name, title, elapsed]\n",
    "\n",
    "            result = testframe.loc[max(testframe.index), 'full_name']\n",
    "            url = \"http://www.reddit.com/?count={}&after={}\".format(25*i, result)\n",
    "            \n",
    "            scrapeddata = [author, subreddit, timestamp,\n",
    "                   rank, comments, score, crossposts, full_name, title, elapsed]\n",
    "            \n",
    "#             print(len(scrapeddata))\n",
    "            scrapeframe = pd.DataFrame(np.array(scrapeddata).reshape(1,10), columns=['author', 'subreddit', 'timestamp',\n",
    "                   'rank', 'comments', 'score', 'crossposts', 'full_name', 'title', 'elapsed'])\n",
    "#             scrapeframe = scrapeframe.transpose\n",
    "            \n",
    "            with open('scraped.csv', 'a') as f:\n",
    "                scrapeframe.to_csv(f, header=False)"
   ]
  },
  {
   "cell_type": "code",
   "execution_count": 89,
   "metadata": {
    "ExecuteTime": {
     "end_time": "2017-11-03T06:04:24.094512Z",
     "start_time": "2017-11-03T05:51:55.735789Z"
    },
    "deletable": false,
    "editable": false,
    "hidden": true,
    "run_control": {
     "frozen": true,
     "marked": false
    }
   },
   "outputs": [],
   "source": [
    "scrape_and_bake('https://www.reddit.com/')\n",
    "\n",
    "# WARNING! This is my scrape actionable. DO NOT RUN THIS unless you want to scrape and have ~15 minutes of free time\n",
    "# This cell has been locked into read-only to prevent accidental runs."
   ]
  },
  {
   "cell_type": "code",
   "execution_count": 247,
   "metadata": {
    "ExecuteTime": {
     "end_time": "2017-11-03T09:27:14.399636Z",
     "start_time": "2017-11-03T09:27:14.041867Z"
    },
    "hidden": true
   },
   "outputs": [],
   "source": [
    "data = pd.read_csv('/Users/skiparay/Desktop/GA/Projects/project-3/scraped.csv', names= ['author', 'subreddit', 'timestamp',\n",
    "                   'rank', 'comments', 'score', 'crossposts', 'full_name', 'title', 'elapsed'])\n",
    "data.reset_index(drop=True);"
   ]
  },
  {
   "cell_type": "code",
   "execution_count": 248,
   "metadata": {
    "ExecuteTime": {
     "end_time": "2017-11-03T09:28:23.075916Z",
     "start_time": "2017-11-03T09:28:23.068363Z"
    },
    "hidden": true
   },
   "outputs": [],
   "source": [
    "data['post_date'] = pd.to_datetime(data['timestamp'], origin='unix', unit='ms')"
   ]
  },
  {
   "cell_type": "code",
   "execution_count": 249,
   "metadata": {
    "ExecuteTime": {
     "end_time": "2017-11-03T09:28:34.010243Z",
     "start_time": "2017-11-03T09:28:33.501831Z"
    },
    "hidden": true
   },
   "outputs": [],
   "source": [
    "data['post_time_hours'] = (data['post_date'].apply(lambda x: x.hour))"
   ]
  },
  {
   "cell_type": "code",
   "execution_count": 250,
   "metadata": {
    "ExecuteTime": {
     "end_time": "2017-11-03T09:28:44.140077Z",
     "start_time": "2017-11-03T09:28:44.135872Z"
    },
    "hidden": true
   },
   "outputs": [],
   "source": [
    "data['post_time_hours'] = (data['post_time_hours'].astype(int))"
   ]
  },
  {
   "cell_type": "code",
   "execution_count": 251,
   "metadata": {
    "ExecuteTime": {
     "end_time": "2017-11-03T09:28:55.004702Z",
     "start_time": "2017-11-03T09:28:54.579365Z"
    },
    "hidden": true
   },
   "outputs": [],
   "source": [
    "data['post_time_hours'] = data['post_time_hours'].astype(str)\n",
    "data['post_time_hours'] = data['post_time_hours'] + '00'\n",
    "\n",
    "#Turning the hours column into strings so I can add the :00 to the end (just to make things look nicer)."
   ]
  },
  {
   "cell_type": "code",
   "execution_count": 252,
   "metadata": {
    "ExecuteTime": {
     "end_time": "2017-11-03T09:29:06.506891Z",
     "start_time": "2017-11-03T09:29:06.476533Z"
    },
    "hidden": true
   },
   "outputs": [],
   "source": [
    "data['post_time_hours'] = data['post_time_hours'].astype(int)\n",
    "#And back into integers for modeling"
   ]
  },
  {
   "cell_type": "code",
   "execution_count": 253,
   "metadata": {
    "ExecuteTime": {
     "end_time": "2017-11-03T09:29:16.907455Z",
     "start_time": "2017-11-03T09:29:16.890427Z"
    },
    "hidden": true
   },
   "outputs": [],
   "source": [
    "data['post_day_of_week'] = data['post_date'].dt.weekday_name"
   ]
  },
  {
   "cell_type": "code",
   "execution_count": 254,
   "metadata": {
    "ExecuteTime": {
     "end_time": "2017-11-03T09:29:27.682285Z",
     "start_time": "2017-11-03T09:29:27.668142Z"
    },
    "hidden": true
   },
   "outputs": [
    {
     "data": {
      "text/html": [
       "<div>\n",
       "<style>\n",
       "    .dataframe thead tr:only-child th {\n",
       "        text-align: right;\n",
       "    }\n",
       "\n",
       "    .dataframe thead th {\n",
       "        text-align: left;\n",
       "    }\n",
       "\n",
       "    .dataframe tbody tr th {\n",
       "        vertical-align: top;\n",
       "    }\n",
       "</style>\n",
       "<table border=\"1\" class=\"dataframe\">\n",
       "  <thead>\n",
       "    <tr style=\"text-align: right;\">\n",
       "      <th></th>\n",
       "      <th>author</th>\n",
       "      <th>subreddit</th>\n",
       "      <th>timestamp</th>\n",
       "      <th>rank</th>\n",
       "      <th>comments</th>\n",
       "      <th>score</th>\n",
       "      <th>crossposts</th>\n",
       "      <th>full_name</th>\n",
       "      <th>title</th>\n",
       "      <th>elapsed</th>\n",
       "      <th>post_date</th>\n",
       "      <th>post_time_hours</th>\n",
       "      <th>post_day_of_week</th>\n",
       "    </tr>\n",
       "  </thead>\n",
       "  <tbody>\n",
       "    <tr>\n",
       "      <th>0</th>\n",
       "      <td>ffrosteh</td>\n",
       "      <td>news</td>\n",
       "      <td>1509478344000</td>\n",
       "      <td>1</td>\n",
       "      <td>5419</td>\n",
       "      <td>15315</td>\n",
       "      <td>0</td>\n",
       "      <td>t3_79y7k6</td>\n",
       "      <td>NYPD responding to reports of shots fired in l...</td>\n",
       "      <td>2 hours ago</td>\n",
       "      <td>2017-10-31 19:32:24</td>\n",
       "      <td>1900</td>\n",
       "      <td>Tuesday</td>\n",
       "    </tr>\n",
       "    <tr>\n",
       "      <th>0</th>\n",
       "      <td>paochow</td>\n",
       "      <td>funny</td>\n",
       "      <td>1509473643000</td>\n",
       "      <td>2</td>\n",
       "      <td>811</td>\n",
       "      <td>77648</td>\n",
       "      <td>0</td>\n",
       "      <td>t3_79xneh</td>\n",
       "      <td>So my friend went to the DMV on Halloween...</td>\n",
       "      <td>3 hours ago</td>\n",
       "      <td>2017-10-31 18:14:03</td>\n",
       "      <td>1800</td>\n",
       "      <td>Tuesday</td>\n",
       "    </tr>\n",
       "    <tr>\n",
       "      <th>0</th>\n",
       "      <td>onesincepearlharbor</td>\n",
       "      <td>wholesomememes</td>\n",
       "      <td>1509473604000</td>\n",
       "      <td>3</td>\n",
       "      <td>62</td>\n",
       "      <td>8202</td>\n",
       "      <td>0</td>\n",
       "      <td>t3_79xn7y</td>\n",
       "      <td>Day at the park</td>\n",
       "      <td>3 hours ago</td>\n",
       "      <td>2017-10-31 18:13:24</td>\n",
       "      <td>1800</td>\n",
       "      <td>Tuesday</td>\n",
       "    </tr>\n",
       "    <tr>\n",
       "      <th>0</th>\n",
       "      <td>clee3092</td>\n",
       "      <td>pics</td>\n",
       "      <td>1509470200000</td>\n",
       "      <td>4</td>\n",
       "      <td>678</td>\n",
       "      <td>21656</td>\n",
       "      <td>0</td>\n",
       "      <td>t3_79x8ol</td>\n",
       "      <td>My wife as Moana for the kiddies</td>\n",
       "      <td>4 hours ago</td>\n",
       "      <td>2017-10-31 17:16:40</td>\n",
       "      <td>1700</td>\n",
       "      <td>Tuesday</td>\n",
       "    </tr>\n",
       "    <tr>\n",
       "      <th>0</th>\n",
       "      <td>namraka</td>\n",
       "      <td>AnimalsBeingJerks</td>\n",
       "      <td>1509470528000</td>\n",
       "      <td>5</td>\n",
       "      <td>563</td>\n",
       "      <td>12019</td>\n",
       "      <td>0</td>\n",
       "      <td>t3_79xa88</td>\n",
       "      <td>Police dog steals the ball</td>\n",
       "      <td>4 hours ago</td>\n",
       "      <td>2017-10-31 17:22:08</td>\n",
       "      <td>1700</td>\n",
       "      <td>Tuesday</td>\n",
       "    </tr>\n",
       "  </tbody>\n",
       "</table>\n",
       "</div>"
      ],
      "text/plain": [
       "                author          subreddit      timestamp  rank  comments  \\\n",
       "0             ffrosteh               news  1509478344000     1      5419   \n",
       "0              paochow              funny  1509473643000     2       811   \n",
       "0  onesincepearlharbor     wholesomememes  1509473604000     3        62   \n",
       "0             clee3092               pics  1509470200000     4       678   \n",
       "0              namraka  AnimalsBeingJerks  1509470528000     5       563   \n",
       "\n",
       "   score  crossposts  full_name  \\\n",
       "0  15315           0  t3_79y7k6   \n",
       "0  77648           0  t3_79xneh   \n",
       "0   8202           0  t3_79xn7y   \n",
       "0  21656           0  t3_79x8ol   \n",
       "0  12019           0  t3_79xa88   \n",
       "\n",
       "                                               title      elapsed  \\\n",
       "0  NYPD responding to reports of shots fired in l...  2 hours ago   \n",
       "0       So my friend went to the DMV on Halloween...  3 hours ago   \n",
       "0                                    Day at the park  3 hours ago   \n",
       "0                   My wife as Moana for the kiddies  4 hours ago   \n",
       "0                         Police dog steals the ball  4 hours ago   \n",
       "\n",
       "            post_date  post_time_hours post_day_of_week  \n",
       "0 2017-10-31 19:32:24             1900          Tuesday  \n",
       "0 2017-10-31 18:14:03             1800          Tuesday  \n",
       "0 2017-10-31 18:13:24             1800          Tuesday  \n",
       "0 2017-10-31 17:16:40             1700          Tuesday  \n",
       "0 2017-10-31 17:22:08             1700          Tuesday  "
      ]
     },
     "execution_count": 254,
     "metadata": {},
     "output_type": "execute_result"
    }
   ],
   "source": [
    "data.head()"
   ]
  },
  {
   "cell_type": "code",
   "execution_count": 255,
   "metadata": {
    "ExecuteTime": {
     "end_time": "2017-11-03T09:29:39.213916Z",
     "start_time": "2017-11-03T09:29:39.208506Z"
    },
    "hidden": true,
    "run_control": {
     "marked": true
    }
   },
   "outputs": [],
   "source": [
    "import datetime\n",
    "import os\n",
    "\n",
    "def creation_date(filename):\n",
    "    t = os.path.getmtime(filename)\n",
    "    t2 = datetime.datetime.fromtimestamp(t)\n",
    "    return t2.strftime(\"%a %b %d %Y %H:%M:%S\")\n",
    "\n",
    "#This should give the creation date/time (i.e. the scraptime) of the CSV. file Code snippet adapted from here: \n",
    "#https://stackoverflow.com/questions/237079/how-to-get-file-creation-modification-date-times-in-python"
   ]
  },
  {
   "cell_type": "code",
   "execution_count": 256,
   "metadata": {
    "ExecuteTime": {
     "end_time": "2017-11-03T09:29:51.016400Z",
     "start_time": "2017-11-03T09:29:51.012677Z"
    },
    "hidden": true
   },
   "outputs": [
    {
     "data": {
      "text/plain": [
       "'Fri Nov 03 2017 02:04:24'"
      ]
     },
     "execution_count": 256,
     "metadata": {},
     "output_type": "execute_result"
    }
   ],
   "source": [
    "creation_date('/Users/skiparay/Desktop/GA/Projects/project-3/scraped.csv')"
   ]
  },
  {
   "cell_type": "code",
   "execution_count": 257,
   "metadata": {
    "ExecuteTime": {
     "end_time": "2017-11-03T09:30:03.670500Z",
     "start_time": "2017-11-03T09:30:03.572492Z"
    },
    "hidden": true
   },
   "outputs": [],
   "source": [
    "data = data[['author', 'title', 'full_name', 'subreddit', 'comments', 'score', 'timestamp', 'post_date', 'post_time_hours', 'post_day_of_week', 'rank', 'crossposts', 'elapsed']]\n",
    "data = data.rename(columns={'full_name':'unique_id', 'timestamp':'unix_timestamp', 'elapsed':'time_since_posting'})"
   ]
  },
  {
   "cell_type": "code",
   "execution_count": 258,
   "metadata": {
    "ExecuteTime": {
     "end_time": "2017-11-03T09:30:16.161738Z",
     "start_time": "2017-11-03T09:30:15.118008Z"
    },
    "hidden": true
   },
   "outputs": [
    {
     "data": {
      "text/plain": [
       "author                 7326\n",
       "title                  8166\n",
       "unique_id              8368\n",
       "subreddit              1635\n",
       "comments               2948\n",
       "score                 25505\n",
       "unix_timestamp         8179\n",
       "post_date              8179\n",
       "post_time_hours          24\n",
       "post_day_of_week          5\n",
       "rank                  25000\n",
       "crossposts                6\n",
       "time_since_posting       84\n",
       "dtype: int64"
      ]
     },
     "execution_count": 258,
     "metadata": {},
     "output_type": "execute_result"
    }
   ],
   "source": [
    "data.nunique() "
   ]
  },
  {
   "cell_type": "code",
   "execution_count": 259,
   "metadata": {
    "ExecuteTime": {
     "end_time": "2017-11-03T09:30:30.478605Z",
     "start_time": "2017-11-03T09:30:30.374724Z"
    },
    "hidden": true
   },
   "outputs": [
    {
     "data": {
      "text/plain": [
       "author                0\n",
       "title                 0\n",
       "unique_id             0\n",
       "subreddit             0\n",
       "comments              0\n",
       "score                 0\n",
       "unix_timestamp        0\n",
       "post_date             0\n",
       "post_time_hours       0\n",
       "post_day_of_week      0\n",
       "rank                  0\n",
       "crossposts            0\n",
       "time_since_posting    0\n",
       "dtype: int64"
      ]
     },
     "execution_count": 259,
     "metadata": {},
     "output_type": "execute_result"
    }
   ],
   "source": [
    "data.isnull().sum()\n",
    "\n",
    "#Not expecting any null values, but just to be sure."
   ]
  },
  {
   "cell_type": "code",
   "execution_count": 260,
   "metadata": {
    "ExecuteTime": {
     "end_time": "2017-11-03T09:30:43.273826Z",
     "start_time": "2017-11-03T09:30:43.269269Z"
    },
    "hidden": true
   },
   "outputs": [
    {
     "data": {
      "text/plain": [
       "Timestamp('2017-10-30 22:48:36')"
      ]
     },
     "execution_count": 260,
     "metadata": {},
     "output_type": "execute_result"
    }
   ],
   "source": [
    "data['post_date'].min()"
   ]
  },
  {
   "cell_type": "code",
   "execution_count": 261,
   "metadata": {
    "ExecuteTime": {
     "end_time": "2017-11-03T09:30:53.984897Z",
     "start_time": "2017-11-03T09:30:53.980337Z"
    },
    "hidden": true
   },
   "outputs": [
    {
     "data": {
      "text/plain": [
       "Timestamp('2017-11-03 05:16:14')"
      ]
     },
     "execution_count": 261,
     "metadata": {},
     "output_type": "execute_result"
    }
   ],
   "source": [
    "data['post_date'].max()"
   ]
  },
  {
   "cell_type": "code",
   "execution_count": 262,
   "metadata": {
    "ExecuteTime": {
     "end_time": "2017-11-03T09:31:04.028868Z",
     "start_time": "2017-11-03T09:31:04.012656Z"
    },
    "hidden": true
   },
   "outputs": [],
   "source": [
    "dataunique = data.drop_duplicates(subset=['unique_id'])\n",
    "dataunique.reset_index(drop=True);\n",
    "\n",
    "#Dropping duplicates"
   ]
  },
  {
   "cell_type": "code",
   "execution_count": 18,
   "metadata": {
    "ExecuteTime": {
     "end_time": "2017-11-03T01:56:11.669296Z",
     "start_time": "2017-11-03T01:56:11.621066Z"
    },
    "hidden": true
   },
   "outputs": [],
   "source": [
    "def eda(dataframe):\n",
    "    \"\"\"\n",
    "\n",
    "    :param dataframe: Data to run data analysis on\n",
    "    :type dataframe: pandas DataFrame\n",
    "    :return: None\n",
    "    :rtype: None\n",
    "    \"\"\"\n",
    "    assert type(dataframe) in [pd.DataFrame, pd.Series], \"Expected pandas.DataFrame, {} is type {}\".format(dataframe, type(dataframe))\n",
    "    \n",
    "    print(\"Dataframe Index:\\n{}\\n\".format(dataframe.index))\n",
    "    print(\"Dataframe Shape:\\n{}\\n\".format(dataframe.shape))   \n",
    "    for item in dataframe:\n",
    "        print(\"---\" * 39)\n",
    "        print(\"Feature: {}\".format(item))\n",
    "        print(\"Data Type: {}\\n\".format(dataframe[item].dtypes))\n",
    "        print(\"Unique Values: {}\\n\".format(dataframe[item].nunique()))\n",
    "        print(\"Missing Values: {}\".format(dataframe[item].isnull().sum()))\n",
    "        print(\"\\n{}\".format(dataframe[item].describe(include='all')))\n",
    "        \n",
    "        # plotting\n",
    "        if dataframe[item].nunique() == 1:  # skip plotting for columns with only one value\n",
    "            print(\"\\n{} is homogeneous\".format(item))\n",
    "            continue\n",
    "            \n",
    "        if dataframe[item].nunique() == dataframe[item].count():  # skip plotting when all values are unique\n",
    "            print(\"\\nIndex eligible - All values of {} are unique\\n\".format(item))\n",
    "            continue\n",
    "        \n",
    "        if dataframe[item].dtype in [np.int64, np.float64]:\n",
    "            sns.distplot(dataframe[item])\n",
    "        elif dataframe[item].dtype in [np.object, dt.datetime]:\n",
    "            sns.countplot(dataframe[item])\n",
    "        plt.show()\n",
    "        \n",
    "\n"
   ]
  },
  {
   "cell_type": "code",
   "execution_count": 70,
   "metadata": {
    "ExecuteTime": {
     "end_time": "2017-11-02T14:09:37.228641Z",
     "start_time": "2017-11-02T14:09:37.197323Z"
    },
    "collapsed": true,
    "deletable": false,
    "editable": false,
    "hidden": true,
    "run_control": {
     "frozen": true
    }
   },
   "outputs": [
    {
     "name": "stdout",
     "output_type": "stream",
     "text": [
      "Dataframe Index:\n",
      "RangeIndex(start=0, stop=6043, step=1)\n",
      "\n",
      "Dataframe Shape:\n",
      "(6043, 19)\n",
      "\n",
      "---------------------------------------------------------------------------------------------------------------------\n",
      "Feature: author\n",
      "Data Type: object\n",
      "\n",
      "Unique Values: 5410\n",
      "\n",
      "Missing Values: 0\n",
      "\n",
      "count            6043\n",
      "unique           5410\n",
      "top       1Voice1Life\n",
      "freq               20\n",
      "Name: author, dtype: object\n"
     ]
    },
    {
     "ename": "AttributeError",
     "evalue": "'DecisionTreeClassifier' object has no attribute 'datetime'",
     "output_type": "error",
     "traceback": [
      "\u001b[0;31m---------------------------------------------------------------------------\u001b[0m",
      "\u001b[0;31mAttributeError\u001b[0m                            Traceback (most recent call last)",
      "\u001b[0;32m<ipython-input-70-200537c44bb8>\u001b[0m in \u001b[0;36m<module>\u001b[0;34m()\u001b[0m\n\u001b[0;32m----> 1\u001b[0;31m \u001b[0meda\u001b[0m\u001b[0;34m(\u001b[0m\u001b[0mdataunique\u001b[0m\u001b[0;34m)\u001b[0m\u001b[0;34m\u001b[0m\u001b[0m\n\u001b[0m",
      "\u001b[0;32m<ipython-input-25-82e6d057839b>\u001b[0m in \u001b[0;36meda\u001b[0;34m(dataframe)\u001b[0m\n\u001b[1;32m     30\u001b[0m         \u001b[0;32mif\u001b[0m \u001b[0mdataframe\u001b[0m\u001b[0;34m[\u001b[0m\u001b[0mitem\u001b[0m\u001b[0;34m]\u001b[0m\u001b[0;34m.\u001b[0m\u001b[0mdtype\u001b[0m \u001b[0;32min\u001b[0m \u001b[0;34m[\u001b[0m\u001b[0mnp\u001b[0m\u001b[0;34m.\u001b[0m\u001b[0mint64\u001b[0m\u001b[0;34m,\u001b[0m \u001b[0mnp\u001b[0m\u001b[0;34m.\u001b[0m\u001b[0mfloat64\u001b[0m\u001b[0;34m]\u001b[0m\u001b[0;34m:\u001b[0m\u001b[0;34m\u001b[0m\u001b[0m\n\u001b[1;32m     31\u001b[0m             \u001b[0msns\u001b[0m\u001b[0;34m.\u001b[0m\u001b[0mdistplot\u001b[0m\u001b[0;34m(\u001b[0m\u001b[0mdataframe\u001b[0m\u001b[0;34m[\u001b[0m\u001b[0mitem\u001b[0m\u001b[0;34m]\u001b[0m\u001b[0;34m)\u001b[0m\u001b[0;34m\u001b[0m\u001b[0m\n\u001b[0;32m---> 32\u001b[0;31m         \u001b[0;32melif\u001b[0m \u001b[0mdataframe\u001b[0m\u001b[0;34m[\u001b[0m\u001b[0mitem\u001b[0m\u001b[0;34m]\u001b[0m\u001b[0;34m.\u001b[0m\u001b[0mdtype\u001b[0m \u001b[0;32min\u001b[0m \u001b[0;34m[\u001b[0m\u001b[0mnp\u001b[0m\u001b[0;34m.\u001b[0m\u001b[0mobject\u001b[0m\u001b[0;34m,\u001b[0m \u001b[0mdt\u001b[0m\u001b[0;34m.\u001b[0m\u001b[0mdatetime\u001b[0m\u001b[0;34m]\u001b[0m\u001b[0;34m:\u001b[0m\u001b[0;34m\u001b[0m\u001b[0m\n\u001b[0m\u001b[1;32m     33\u001b[0m             \u001b[0msns\u001b[0m\u001b[0;34m.\u001b[0m\u001b[0mcountplot\u001b[0m\u001b[0;34m(\u001b[0m\u001b[0mdataframe\u001b[0m\u001b[0;34m[\u001b[0m\u001b[0mitem\u001b[0m\u001b[0;34m]\u001b[0m\u001b[0;34m)\u001b[0m\u001b[0;34m\u001b[0m\u001b[0m\n\u001b[1;32m     34\u001b[0m         \u001b[0mplt\u001b[0m\u001b[0;34m.\u001b[0m\u001b[0mshow\u001b[0m\u001b[0;34m(\u001b[0m\u001b[0;34m)\u001b[0m\u001b[0;34m\u001b[0m\u001b[0m\n",
      "\u001b[0;31mAttributeError\u001b[0m: 'DecisionTreeClassifier' object has no attribute 'datetime'"
     ]
    }
   ],
   "source": [
    "eda(dataunique)"
   ]
  },
  {
   "cell_type": "code",
   "execution_count": 263,
   "metadata": {
    "ExecuteTime": {
     "end_time": "2017-11-03T09:31:14.866552Z",
     "start_time": "2017-11-03T09:31:14.852199Z"
    },
    "hidden": true
   },
   "outputs": [
    {
     "data": {
      "text/html": [
       "<div>\n",
       "<style>\n",
       "    .dataframe thead tr:only-child th {\n",
       "        text-align: right;\n",
       "    }\n",
       "\n",
       "    .dataframe thead th {\n",
       "        text-align: left;\n",
       "    }\n",
       "\n",
       "    .dataframe tbody tr th {\n",
       "        vertical-align: top;\n",
       "    }\n",
       "</style>\n",
       "<table border=\"1\" class=\"dataframe\">\n",
       "  <thead>\n",
       "    <tr style=\"text-align: right;\">\n",
       "      <th></th>\n",
       "      <th>author</th>\n",
       "      <th>title</th>\n",
       "      <th>unique_id</th>\n",
       "      <th>subreddit</th>\n",
       "      <th>comments</th>\n",
       "      <th>score</th>\n",
       "      <th>unix_timestamp</th>\n",
       "      <th>post_date</th>\n",
       "      <th>post_time_hours</th>\n",
       "      <th>post_day_of_week</th>\n",
       "      <th>rank</th>\n",
       "      <th>crossposts</th>\n",
       "      <th>time_since_posting</th>\n",
       "    </tr>\n",
       "  </thead>\n",
       "  <tbody>\n",
       "    <tr>\n",
       "      <th>0</th>\n",
       "      <td>ffrosteh</td>\n",
       "      <td>NYPD responding to reports of shots fired in l...</td>\n",
       "      <td>t3_79y7k6</td>\n",
       "      <td>news</td>\n",
       "      <td>5419</td>\n",
       "      <td>15315</td>\n",
       "      <td>1509478344000</td>\n",
       "      <td>2017-10-31 19:32:24</td>\n",
       "      <td>1900</td>\n",
       "      <td>Tuesday</td>\n",
       "      <td>1</td>\n",
       "      <td>0</td>\n",
       "      <td>2 hours ago</td>\n",
       "    </tr>\n",
       "    <tr>\n",
       "      <th>0</th>\n",
       "      <td>paochow</td>\n",
       "      <td>So my friend went to the DMV on Halloween...</td>\n",
       "      <td>t3_79xneh</td>\n",
       "      <td>funny</td>\n",
       "      <td>811</td>\n",
       "      <td>77648</td>\n",
       "      <td>1509473643000</td>\n",
       "      <td>2017-10-31 18:14:03</td>\n",
       "      <td>1800</td>\n",
       "      <td>Tuesday</td>\n",
       "      <td>2</td>\n",
       "      <td>0</td>\n",
       "      <td>3 hours ago</td>\n",
       "    </tr>\n",
       "    <tr>\n",
       "      <th>0</th>\n",
       "      <td>onesincepearlharbor</td>\n",
       "      <td>Day at the park</td>\n",
       "      <td>t3_79xn7y</td>\n",
       "      <td>wholesomememes</td>\n",
       "      <td>62</td>\n",
       "      <td>8202</td>\n",
       "      <td>1509473604000</td>\n",
       "      <td>2017-10-31 18:13:24</td>\n",
       "      <td>1800</td>\n",
       "      <td>Tuesday</td>\n",
       "      <td>3</td>\n",
       "      <td>0</td>\n",
       "      <td>3 hours ago</td>\n",
       "    </tr>\n",
       "    <tr>\n",
       "      <th>0</th>\n",
       "      <td>clee3092</td>\n",
       "      <td>My wife as Moana for the kiddies</td>\n",
       "      <td>t3_79x8ol</td>\n",
       "      <td>pics</td>\n",
       "      <td>678</td>\n",
       "      <td>21656</td>\n",
       "      <td>1509470200000</td>\n",
       "      <td>2017-10-31 17:16:40</td>\n",
       "      <td>1700</td>\n",
       "      <td>Tuesday</td>\n",
       "      <td>4</td>\n",
       "      <td>0</td>\n",
       "      <td>4 hours ago</td>\n",
       "    </tr>\n",
       "    <tr>\n",
       "      <th>0</th>\n",
       "      <td>namraka</td>\n",
       "      <td>Police dog steals the ball</td>\n",
       "      <td>t3_79xa88</td>\n",
       "      <td>AnimalsBeingJerks</td>\n",
       "      <td>563</td>\n",
       "      <td>12019</td>\n",
       "      <td>1509470528000</td>\n",
       "      <td>2017-10-31 17:22:08</td>\n",
       "      <td>1700</td>\n",
       "      <td>Tuesday</td>\n",
       "      <td>5</td>\n",
       "      <td>0</td>\n",
       "      <td>4 hours ago</td>\n",
       "    </tr>\n",
       "  </tbody>\n",
       "</table>\n",
       "</div>"
      ],
      "text/plain": [
       "                author                                              title  \\\n",
       "0             ffrosteh  NYPD responding to reports of shots fired in l...   \n",
       "0              paochow       So my friend went to the DMV on Halloween...   \n",
       "0  onesincepearlharbor                                    Day at the park   \n",
       "0             clee3092                   My wife as Moana for the kiddies   \n",
       "0              namraka                         Police dog steals the ball   \n",
       "\n",
       "   unique_id          subreddit  comments  score  unix_timestamp  \\\n",
       "0  t3_79y7k6               news      5419  15315   1509478344000   \n",
       "0  t3_79xneh              funny       811  77648   1509473643000   \n",
       "0  t3_79xn7y     wholesomememes        62   8202   1509473604000   \n",
       "0  t3_79x8ol               pics       678  21656   1509470200000   \n",
       "0  t3_79xa88  AnimalsBeingJerks       563  12019   1509470528000   \n",
       "\n",
       "            post_date  post_time_hours post_day_of_week  rank  crossposts  \\\n",
       "0 2017-10-31 19:32:24             1900          Tuesday     1           0   \n",
       "0 2017-10-31 18:14:03             1800          Tuesday     2           0   \n",
       "0 2017-10-31 18:13:24             1800          Tuesday     3           0   \n",
       "0 2017-10-31 17:16:40             1700          Tuesday     4           0   \n",
       "0 2017-10-31 17:22:08             1700          Tuesday     5           0   \n",
       "\n",
       "  time_since_posting  \n",
       "0        2 hours ago  \n",
       "0        3 hours ago  \n",
       "0        3 hours ago  \n",
       "0        4 hours ago  \n",
       "0        4 hours ago  "
      ]
     },
     "execution_count": 263,
     "metadata": {},
     "output_type": "execute_result"
    }
   ],
   "source": [
    "dataunique.head()"
   ]
  },
  {
   "cell_type": "code",
   "execution_count": 264,
   "metadata": {
    "ExecuteTime": {
     "end_time": "2017-11-03T09:31:25.781399Z",
     "start_time": "2017-11-03T09:31:25.774326Z"
    },
    "hidden": true
   },
   "outputs": [
    {
     "data": {
      "text/plain": [
       "{0.25: 5.0, 0.5: 15.0, 0.75: 43.0, 0.94999999999999996: 260.64999999999998}"
      ]
     },
     "execution_count": 264,
     "metadata": {},
     "output_type": "execute_result"
    }
   ],
   "source": [
    "keys = [0.25, 0.5, 0.75, 0.95]\n",
    "values = (dataunique['comments'].quantile([0.25, 0.5, 0.75, 0.95]))\n",
    "commentpercdict = {round(key,4):round(value,4) for (key, value) in zip(values.index, values)}\n",
    "commentpercdict"
   ]
  },
  {
   "cell_type": "code",
   "execution_count": 265,
   "metadata": {
    "ExecuteTime": {
     "end_time": "2017-11-03T09:31:39.014326Z",
     "start_time": "2017-11-03T09:31:37.210114Z"
    },
    "hidden": true
   },
   "outputs": [
    {
     "name": "stderr",
     "output_type": "stream",
     "text": [
      "/Users/skiparay/miniconda3/lib/python3.6/site-packages/ipykernel_launcher.py:1: SettingWithCopyWarning: \n",
      "A value is trying to be set on a copy of a slice from a DataFrame.\n",
      "Try using .loc[row_indexer,col_indexer] = value instead\n",
      "\n",
      "See the caveats in the documentation: http://pandas.pydata.org/pandas-docs/stable/indexing.html#indexing-view-versus-copy\n",
      "  \"\"\"Entry point for launching an IPython kernel.\n",
      "/Users/skiparay/miniconda3/lib/python3.6/site-packages/ipykernel_launcher.py:2: SettingWithCopyWarning: \n",
      "A value is trying to be set on a copy of a slice from a DataFrame.\n",
      "Try using .loc[row_indexer,col_indexer] = value instead\n",
      "\n",
      "See the caveats in the documentation: http://pandas.pydata.org/pandas-docs/stable/indexing.html#indexing-view-versus-copy\n",
      "  \n",
      "/Users/skiparay/miniconda3/lib/python3.6/site-packages/ipykernel_launcher.py:3: SettingWithCopyWarning: \n",
      "A value is trying to be set on a copy of a slice from a DataFrame.\n",
      "Try using .loc[row_indexer,col_indexer] = value instead\n",
      "\n",
      "See the caveats in the documentation: http://pandas.pydata.org/pandas-docs/stable/indexing.html#indexing-view-versus-copy\n",
      "  This is separate from the ipykernel package so we can avoid doing imports until\n",
      "/Users/skiparay/miniconda3/lib/python3.6/site-packages/ipykernel_launcher.py:4: SettingWithCopyWarning: \n",
      "A value is trying to be set on a copy of a slice from a DataFrame.\n",
      "Try using .loc[row_indexer,col_indexer] = value instead\n",
      "\n",
      "See the caveats in the documentation: http://pandas.pydata.org/pandas-docs/stable/indexing.html#indexing-view-versus-copy\n",
      "  after removing the cwd from sys.path.\n"
     ]
    }
   ],
   "source": [
    "dataunique['Comments_25th_percentile'] = dataunique['comments'].apply(lambda x: 1 if x >= commentpercdict[0.250] else 0)\n",
    "dataunique['Comments_Median'] = dataunique['comments'].apply(lambda x: 1 if x >= commentpercdict[0.500] else 0)\n",
    "dataunique['Comments_75th_percentile'] = dataunique['comments'].apply(lambda x: 1 if x >= commentpercdict[0.750] else 0)\n",
    "dataunique['Comments_95th_percentile'] = dataunique['comments'].apply(lambda x: 1 if x >= commentpercdict[0.950] else 0)"
   ]
  },
  {
   "cell_type": "code",
   "execution_count": 266,
   "metadata": {
    "ExecuteTime": {
     "end_time": "2017-11-03T09:31:50.177854Z",
     "start_time": "2017-11-03T09:31:50.171016Z"
    },
    "hidden": true
   },
   "outputs": [
    {
     "data": {
      "text/plain": [
       "{0.25: 55.0, 0.5: 172.0, 0.75: 575.0, 0.94999999999999996: 5092.8000000000002}"
      ]
     },
     "execution_count": 266,
     "metadata": {},
     "output_type": "execute_result"
    }
   ],
   "source": [
    "keys = [0.25, 0.5, 0.75, 0.95]\n",
    "values = (dataunique['score'].quantile([0.25, 0.5, 0.75, 0.95]))\n",
    "scorepercdict = {round(key,4):round(value,4) for (key, value) in zip(values.index, values)}\n",
    "scorepercdict"
   ]
  },
  {
   "cell_type": "code",
   "execution_count": 267,
   "metadata": {
    "ExecuteTime": {
     "end_time": "2017-11-03T09:32:04.529463Z",
     "start_time": "2017-11-03T09:32:02.441910Z"
    },
    "hidden": true
   },
   "outputs": [
    {
     "name": "stderr",
     "output_type": "stream",
     "text": [
      "/Users/skiparay/miniconda3/lib/python3.6/site-packages/ipykernel_launcher.py:1: SettingWithCopyWarning: \n",
      "A value is trying to be set on a copy of a slice from a DataFrame.\n",
      "Try using .loc[row_indexer,col_indexer] = value instead\n",
      "\n",
      "See the caveats in the documentation: http://pandas.pydata.org/pandas-docs/stable/indexing.html#indexing-view-versus-copy\n",
      "  \"\"\"Entry point for launching an IPython kernel.\n",
      "/Users/skiparay/miniconda3/lib/python3.6/site-packages/ipykernel_launcher.py:2: SettingWithCopyWarning: \n",
      "A value is trying to be set on a copy of a slice from a DataFrame.\n",
      "Try using .loc[row_indexer,col_indexer] = value instead\n",
      "\n",
      "See the caveats in the documentation: http://pandas.pydata.org/pandas-docs/stable/indexing.html#indexing-view-versus-copy\n",
      "  \n",
      "/Users/skiparay/miniconda3/lib/python3.6/site-packages/ipykernel_launcher.py:3: SettingWithCopyWarning: \n",
      "A value is trying to be set on a copy of a slice from a DataFrame.\n",
      "Try using .loc[row_indexer,col_indexer] = value instead\n",
      "\n",
      "See the caveats in the documentation: http://pandas.pydata.org/pandas-docs/stable/indexing.html#indexing-view-versus-copy\n",
      "  This is separate from the ipykernel package so we can avoid doing imports until\n",
      "/Users/skiparay/miniconda3/lib/python3.6/site-packages/ipykernel_launcher.py:4: SettingWithCopyWarning: \n",
      "A value is trying to be set on a copy of a slice from a DataFrame.\n",
      "Try using .loc[row_indexer,col_indexer] = value instead\n",
      "\n",
      "See the caveats in the documentation: http://pandas.pydata.org/pandas-docs/stable/indexing.html#indexing-view-versus-copy\n",
      "  after removing the cwd from sys.path.\n"
     ]
    }
   ],
   "source": [
    "dataunique['Score_25th_percentile'] = dataunique['score'].apply(lambda x: 1 if x >= scorepercdict[0.250] else 0)\n",
    "dataunique['Score_Median'] = dataunique['score'].apply(lambda x: 1 if x >= scorepercdict[0.500] else 0)\n",
    "dataunique['Score_75th_percentile'] = dataunique['score'].apply(lambda x: 1 if x >= scorepercdict[0.750] else 0)\n",
    "dataunique['Score_95th_percentile'] = dataunique['score'].apply(lambda x: 1 if x >= scorepercdict[0.950] else 0)"
   ]
  },
  {
   "cell_type": "code",
   "execution_count": 268,
   "metadata": {
    "ExecuteTime": {
     "end_time": "2017-11-03T09:32:17.155654Z",
     "start_time": "2017-11-03T09:32:17.149544Z"
    },
    "hidden": true
   },
   "outputs": [],
   "source": [
    "datauniquenum = dataunique.drop(['author', 'title', 'unique_id', 'unix_timestamp', 'post_date', 'time_since_posting'], axis = 1)"
   ]
  },
  {
   "cell_type": "code",
   "execution_count": 269,
   "metadata": {
    "ExecuteTime": {
     "end_time": "2017-11-03T09:32:30.533028Z",
     "start_time": "2017-11-03T09:32:30.485297Z"
    },
    "hidden": true
   },
   "outputs": [
    {
     "data": {
      "text/html": [
       "<div>\n",
       "<style>\n",
       "    .dataframe thead tr:only-child th {\n",
       "        text-align: right;\n",
       "    }\n",
       "\n",
       "    .dataframe thead th {\n",
       "        text-align: left;\n",
       "    }\n",
       "\n",
       "    .dataframe tbody tr th {\n",
       "        vertical-align: top;\n",
       "    }\n",
       "</style>\n",
       "<table border=\"1\" class=\"dataframe\">\n",
       "  <thead>\n",
       "    <tr style=\"text-align: right;\">\n",
       "      <th></th>\n",
       "      <th>subreddit</th>\n",
       "      <th>comments</th>\n",
       "      <th>score</th>\n",
       "      <th>post_time_hours</th>\n",
       "      <th>post_day_of_week</th>\n",
       "      <th>rank</th>\n",
       "      <th>crossposts</th>\n",
       "      <th>Comments_25th_percentile</th>\n",
       "      <th>Comments_Median</th>\n",
       "      <th>Comments_75th_percentile</th>\n",
       "      <th>Comments_95th_percentile</th>\n",
       "      <th>Score_25th_percentile</th>\n",
       "      <th>Score_Median</th>\n",
       "      <th>Score_75th_percentile</th>\n",
       "      <th>Score_95th_percentile</th>\n",
       "    </tr>\n",
       "  </thead>\n",
       "  <tbody>\n",
       "    <tr>\n",
       "      <th>0</th>\n",
       "      <td>news</td>\n",
       "      <td>5419</td>\n",
       "      <td>15315</td>\n",
       "      <td>1900</td>\n",
       "      <td>Tuesday</td>\n",
       "      <td>1</td>\n",
       "      <td>0</td>\n",
       "      <td>1</td>\n",
       "      <td>1</td>\n",
       "      <td>1</td>\n",
       "      <td>1</td>\n",
       "      <td>1</td>\n",
       "      <td>1</td>\n",
       "      <td>1</td>\n",
       "      <td>1</td>\n",
       "    </tr>\n",
       "    <tr>\n",
       "      <th>1</th>\n",
       "      <td>funny</td>\n",
       "      <td>811</td>\n",
       "      <td>77648</td>\n",
       "      <td>1800</td>\n",
       "      <td>Tuesday</td>\n",
       "      <td>2</td>\n",
       "      <td>0</td>\n",
       "      <td>1</td>\n",
       "      <td>1</td>\n",
       "      <td>1</td>\n",
       "      <td>1</td>\n",
       "      <td>1</td>\n",
       "      <td>1</td>\n",
       "      <td>1</td>\n",
       "      <td>1</td>\n",
       "    </tr>\n",
       "    <tr>\n",
       "      <th>2</th>\n",
       "      <td>wholesomememes</td>\n",
       "      <td>62</td>\n",
       "      <td>8202</td>\n",
       "      <td>1800</td>\n",
       "      <td>Tuesday</td>\n",
       "      <td>3</td>\n",
       "      <td>0</td>\n",
       "      <td>1</td>\n",
       "      <td>1</td>\n",
       "      <td>1</td>\n",
       "      <td>0</td>\n",
       "      <td>1</td>\n",
       "      <td>1</td>\n",
       "      <td>1</td>\n",
       "      <td>1</td>\n",
       "    </tr>\n",
       "    <tr>\n",
       "      <th>3</th>\n",
       "      <td>pics</td>\n",
       "      <td>678</td>\n",
       "      <td>21656</td>\n",
       "      <td>1700</td>\n",
       "      <td>Tuesday</td>\n",
       "      <td>4</td>\n",
       "      <td>0</td>\n",
       "      <td>1</td>\n",
       "      <td>1</td>\n",
       "      <td>1</td>\n",
       "      <td>1</td>\n",
       "      <td>1</td>\n",
       "      <td>1</td>\n",
       "      <td>1</td>\n",
       "      <td>1</td>\n",
       "    </tr>\n",
       "    <tr>\n",
       "      <th>4</th>\n",
       "      <td>AnimalsBeingJerks</td>\n",
       "      <td>563</td>\n",
       "      <td>12019</td>\n",
       "      <td>1700</td>\n",
       "      <td>Tuesday</td>\n",
       "      <td>5</td>\n",
       "      <td>0</td>\n",
       "      <td>1</td>\n",
       "      <td>1</td>\n",
       "      <td>1</td>\n",
       "      <td>1</td>\n",
       "      <td>1</td>\n",
       "      <td>1</td>\n",
       "      <td>1</td>\n",
       "      <td>1</td>\n",
       "    </tr>\n",
       "    <tr>\n",
       "      <th>5</th>\n",
       "      <td>gifs</td>\n",
       "      <td>381</td>\n",
       "      <td>25529</td>\n",
       "      <td>1600</td>\n",
       "      <td>Tuesday</td>\n",
       "      <td>6</td>\n",
       "      <td>0</td>\n",
       "      <td>1</td>\n",
       "      <td>1</td>\n",
       "      <td>1</td>\n",
       "      <td>1</td>\n",
       "      <td>1</td>\n",
       "      <td>1</td>\n",
       "      <td>1</td>\n",
       "      <td>1</td>\n",
       "    </tr>\n",
       "    <tr>\n",
       "      <th>6</th>\n",
       "      <td>aww</td>\n",
       "      <td>207</td>\n",
       "      <td>19248</td>\n",
       "      <td>1700</td>\n",
       "      <td>Tuesday</td>\n",
       "      <td>7</td>\n",
       "      <td>0</td>\n",
       "      <td>1</td>\n",
       "      <td>1</td>\n",
       "      <td>1</td>\n",
       "      <td>0</td>\n",
       "      <td>1</td>\n",
       "      <td>1</td>\n",
       "      <td>1</td>\n",
       "      <td>1</td>\n",
       "    </tr>\n",
       "    <tr>\n",
       "      <th>7</th>\n",
       "      <td>facepalm</td>\n",
       "      <td>1301</td>\n",
       "      <td>25460</td>\n",
       "      <td>1500</td>\n",
       "      <td>Tuesday</td>\n",
       "      <td>8</td>\n",
       "      <td>0</td>\n",
       "      <td>1</td>\n",
       "      <td>1</td>\n",
       "      <td>1</td>\n",
       "      <td>1</td>\n",
       "      <td>1</td>\n",
       "      <td>1</td>\n",
       "      <td>1</td>\n",
       "      <td>1</td>\n",
       "    </tr>\n",
       "    <tr>\n",
       "      <th>8</th>\n",
       "      <td>worldnews</td>\n",
       "      <td>394</td>\n",
       "      <td>9187</td>\n",
       "      <td>1700</td>\n",
       "      <td>Tuesday</td>\n",
       "      <td>9</td>\n",
       "      <td>0</td>\n",
       "      <td>1</td>\n",
       "      <td>1</td>\n",
       "      <td>1</td>\n",
       "      <td>1</td>\n",
       "      <td>1</td>\n",
       "      <td>1</td>\n",
       "      <td>1</td>\n",
       "      <td>1</td>\n",
       "    </tr>\n",
       "    <tr>\n",
       "      <th>9</th>\n",
       "      <td>freebies</td>\n",
       "      <td>387</td>\n",
       "      <td>27606</td>\n",
       "      <td>1500</td>\n",
       "      <td>Tuesday</td>\n",
       "      <td>10</td>\n",
       "      <td>0</td>\n",
       "      <td>1</td>\n",
       "      <td>1</td>\n",
       "      <td>1</td>\n",
       "      <td>1</td>\n",
       "      <td>1</td>\n",
       "      <td>1</td>\n",
       "      <td>1</td>\n",
       "      <td>1</td>\n",
       "    </tr>\n",
       "    <tr>\n",
       "      <th>10</th>\n",
       "      <td>todayilearned</td>\n",
       "      <td>1117</td>\n",
       "      <td>46842</td>\n",
       "      <td>1500</td>\n",
       "      <td>Tuesday</td>\n",
       "      <td>11</td>\n",
       "      <td>0</td>\n",
       "      <td>1</td>\n",
       "      <td>1</td>\n",
       "      <td>1</td>\n",
       "      <td>1</td>\n",
       "      <td>1</td>\n",
       "      <td>1</td>\n",
       "      <td>1</td>\n",
       "      <td>1</td>\n",
       "    </tr>\n",
       "    <tr>\n",
       "      <th>11</th>\n",
       "      <td>Tinder</td>\n",
       "      <td>687</td>\n",
       "      <td>37331</td>\n",
       "      <td>1500</td>\n",
       "      <td>Tuesday</td>\n",
       "      <td>12</td>\n",
       "      <td>0</td>\n",
       "      <td>1</td>\n",
       "      <td>1</td>\n",
       "      <td>1</td>\n",
       "      <td>1</td>\n",
       "      <td>1</td>\n",
       "      <td>1</td>\n",
       "      <td>1</td>\n",
       "      <td>1</td>\n",
       "    </tr>\n",
       "    <tr>\n",
       "      <th>12</th>\n",
       "      <td>canada</td>\n",
       "      <td>542</td>\n",
       "      <td>17147</td>\n",
       "      <td>1500</td>\n",
       "      <td>Tuesday</td>\n",
       "      <td>13</td>\n",
       "      <td>0</td>\n",
       "      <td>1</td>\n",
       "      <td>1</td>\n",
       "      <td>1</td>\n",
       "      <td>1</td>\n",
       "      <td>1</td>\n",
       "      <td>1</td>\n",
       "      <td>1</td>\n",
       "      <td>1</td>\n",
       "    </tr>\n",
       "    <tr>\n",
       "      <th>13</th>\n",
       "      <td>AnimalTextGifs</td>\n",
       "      <td>218</td>\n",
       "      <td>14512</td>\n",
       "      <td>1500</td>\n",
       "      <td>Tuesday</td>\n",
       "      <td>14</td>\n",
       "      <td>0</td>\n",
       "      <td>1</td>\n",
       "      <td>1</td>\n",
       "      <td>1</td>\n",
       "      <td>0</td>\n",
       "      <td>1</td>\n",
       "      <td>1</td>\n",
       "      <td>1</td>\n",
       "      <td>1</td>\n",
       "    </tr>\n",
       "    <tr>\n",
       "      <th>14</th>\n",
       "      <td>IASIP</td>\n",
       "      <td>142</td>\n",
       "      <td>18323</td>\n",
       "      <td>1500</td>\n",
       "      <td>Tuesday</td>\n",
       "      <td>15</td>\n",
       "      <td>0</td>\n",
       "      <td>1</td>\n",
       "      <td>1</td>\n",
       "      <td>1</td>\n",
       "      <td>0</td>\n",
       "      <td>1</td>\n",
       "      <td>1</td>\n",
       "      <td>1</td>\n",
       "      <td>1</td>\n",
       "    </tr>\n",
       "    <tr>\n",
       "      <th>15</th>\n",
       "      <td>comics</td>\n",
       "      <td>83</td>\n",
       "      <td>9973</td>\n",
       "      <td>1500</td>\n",
       "      <td>Tuesday</td>\n",
       "      <td>16</td>\n",
       "      <td>0</td>\n",
       "      <td>1</td>\n",
       "      <td>1</td>\n",
       "      <td>1</td>\n",
       "      <td>0</td>\n",
       "      <td>1</td>\n",
       "      <td>1</td>\n",
       "      <td>1</td>\n",
       "      <td>1</td>\n",
       "    </tr>\n",
       "    <tr>\n",
       "      <th>16</th>\n",
       "      <td>gaming</td>\n",
       "      <td>608</td>\n",
       "      <td>22747</td>\n",
       "      <td>1400</td>\n",
       "      <td>Tuesday</td>\n",
       "      <td>17</td>\n",
       "      <td>0</td>\n",
       "      <td>1</td>\n",
       "      <td>1</td>\n",
       "      <td>1</td>\n",
       "      <td>1</td>\n",
       "      <td>1</td>\n",
       "      <td>1</td>\n",
       "      <td>1</td>\n",
       "      <td>1</td>\n",
       "    </tr>\n",
       "    <tr>\n",
       "      <th>17</th>\n",
       "      <td>copypasta</td>\n",
       "      <td>108</td>\n",
       "      <td>5072</td>\n",
       "      <td>1700</td>\n",
       "      <td>Tuesday</td>\n",
       "      <td>18</td>\n",
       "      <td>0</td>\n",
       "      <td>1</td>\n",
       "      <td>1</td>\n",
       "      <td>1</td>\n",
       "      <td>0</td>\n",
       "      <td>1</td>\n",
       "      <td>1</td>\n",
       "      <td>1</td>\n",
       "      <td>0</td>\n",
       "    </tr>\n",
       "    <tr>\n",
       "      <th>18</th>\n",
       "      <td>HumansBeingBros</td>\n",
       "      <td>1344</td>\n",
       "      <td>32007</td>\n",
       "      <td>1300</td>\n",
       "      <td>Tuesday</td>\n",
       "      <td>19</td>\n",
       "      <td>0</td>\n",
       "      <td>1</td>\n",
       "      <td>1</td>\n",
       "      <td>1</td>\n",
       "      <td>1</td>\n",
       "      <td>1</td>\n",
       "      <td>1</td>\n",
       "      <td>1</td>\n",
       "      <td>1</td>\n",
       "    </tr>\n",
       "    <tr>\n",
       "      <th>19</th>\n",
       "      <td>BlackPeopleTwitter</td>\n",
       "      <td>162</td>\n",
       "      <td>13287</td>\n",
       "      <td>1400</td>\n",
       "      <td>Tuesday</td>\n",
       "      <td>20</td>\n",
       "      <td>0</td>\n",
       "      <td>1</td>\n",
       "      <td>1</td>\n",
       "      <td>1</td>\n",
       "      <td>0</td>\n",
       "      <td>1</td>\n",
       "      <td>1</td>\n",
       "      <td>1</td>\n",
       "      <td>1</td>\n",
       "    </tr>\n",
       "    <tr>\n",
       "      <th>20</th>\n",
       "      <td>surrealmemes</td>\n",
       "      <td>80</td>\n",
       "      <td>9484</td>\n",
       "      <td>1500</td>\n",
       "      <td>Tuesday</td>\n",
       "      <td>21</td>\n",
       "      <td>0</td>\n",
       "      <td>1</td>\n",
       "      <td>1</td>\n",
       "      <td>1</td>\n",
       "      <td>0</td>\n",
       "      <td>1</td>\n",
       "      <td>1</td>\n",
       "      <td>1</td>\n",
       "      <td>1</td>\n",
       "    </tr>\n",
       "    <tr>\n",
       "      <th>21</th>\n",
       "      <td>youseeingthisshit</td>\n",
       "      <td>147</td>\n",
       "      <td>7991</td>\n",
       "      <td>1500</td>\n",
       "      <td>Tuesday</td>\n",
       "      <td>22</td>\n",
       "      <td>1</td>\n",
       "      <td>1</td>\n",
       "      <td>1</td>\n",
       "      <td>1</td>\n",
       "      <td>0</td>\n",
       "      <td>1</td>\n",
       "      <td>1</td>\n",
       "      <td>1</td>\n",
       "      <td>1</td>\n",
       "    </tr>\n",
       "    <tr>\n",
       "      <th>22</th>\n",
       "      <td>Eyebleach</td>\n",
       "      <td>357</td>\n",
       "      <td>20178</td>\n",
       "      <td>1300</td>\n",
       "      <td>Tuesday</td>\n",
       "      <td>23</td>\n",
       "      <td>0</td>\n",
       "      <td>1</td>\n",
       "      <td>1</td>\n",
       "      <td>1</td>\n",
       "      <td>1</td>\n",
       "      <td>1</td>\n",
       "      <td>1</td>\n",
       "      <td>1</td>\n",
       "      <td>1</td>\n",
       "    </tr>\n",
       "    <tr>\n",
       "      <th>23</th>\n",
       "      <td>CatastrophicFailure</td>\n",
       "      <td>465</td>\n",
       "      <td>10284</td>\n",
       "      <td>1400</td>\n",
       "      <td>Tuesday</td>\n",
       "      <td>24</td>\n",
       "      <td>0</td>\n",
       "      <td>1</td>\n",
       "      <td>1</td>\n",
       "      <td>1</td>\n",
       "      <td>1</td>\n",
       "      <td>1</td>\n",
       "      <td>1</td>\n",
       "      <td>1</td>\n",
       "      <td>1</td>\n",
       "    </tr>\n",
       "    <tr>\n",
       "      <th>24</th>\n",
       "      <td>JusticeServed</td>\n",
       "      <td>344</td>\n",
       "      <td>3521</td>\n",
       "      <td>1700</td>\n",
       "      <td>Tuesday</td>\n",
       "      <td>25</td>\n",
       "      <td>0</td>\n",
       "      <td>1</td>\n",
       "      <td>1</td>\n",
       "      <td>1</td>\n",
       "      <td>1</td>\n",
       "      <td>1</td>\n",
       "      <td>1</td>\n",
       "      <td>1</td>\n",
       "      <td>0</td>\n",
       "    </tr>\n",
       "    <tr>\n",
       "      <th>25</th>\n",
       "      <td>news</td>\n",
       "      <td>135</td>\n",
       "      <td>659</td>\n",
       "      <td>1300</td>\n",
       "      <td>Tuesday</td>\n",
       "      <td>26</td>\n",
       "      <td>0</td>\n",
       "      <td>1</td>\n",
       "      <td>1</td>\n",
       "      <td>1</td>\n",
       "      <td>0</td>\n",
       "      <td>1</td>\n",
       "      <td>1</td>\n",
       "      <td>1</td>\n",
       "      <td>0</td>\n",
       "    </tr>\n",
       "    <tr>\n",
       "      <th>26</th>\n",
       "      <td>videos</td>\n",
       "      <td>103</td>\n",
       "      <td>784</td>\n",
       "      <td>1300</td>\n",
       "      <td>Tuesday</td>\n",
       "      <td>27</td>\n",
       "      <td>0</td>\n",
       "      <td>1</td>\n",
       "      <td>1</td>\n",
       "      <td>1</td>\n",
       "      <td>0</td>\n",
       "      <td>1</td>\n",
       "      <td>1</td>\n",
       "      <td>1</td>\n",
       "      <td>0</td>\n",
       "    </tr>\n",
       "    <tr>\n",
       "      <th>27</th>\n",
       "      <td>beer</td>\n",
       "      <td>67</td>\n",
       "      <td>772</td>\n",
       "      <td>1600</td>\n",
       "      <td>Tuesday</td>\n",
       "      <td>28</td>\n",
       "      <td>0</td>\n",
       "      <td>1</td>\n",
       "      <td>1</td>\n",
       "      <td>1</td>\n",
       "      <td>0</td>\n",
       "      <td>1</td>\n",
       "      <td>1</td>\n",
       "      <td>1</td>\n",
       "      <td>0</td>\n",
       "    </tr>\n",
       "    <tr>\n",
       "      <th>28</th>\n",
       "      <td>rarepuppers</td>\n",
       "      <td>23</td>\n",
       "      <td>2169</td>\n",
       "      <td>1300</td>\n",
       "      <td>Tuesday</td>\n",
       "      <td>29</td>\n",
       "      <td>1</td>\n",
       "      <td>1</td>\n",
       "      <td>1</td>\n",
       "      <td>0</td>\n",
       "      <td>0</td>\n",
       "      <td>1</td>\n",
       "      <td>1</td>\n",
       "      <td>1</td>\n",
       "      <td>0</td>\n",
       "    </tr>\n",
       "    <tr>\n",
       "      <th>29</th>\n",
       "      <td>videos</td>\n",
       "      <td>125</td>\n",
       "      <td>1942</td>\n",
       "      <td>1300</td>\n",
       "      <td>Tuesday</td>\n",
       "      <td>30</td>\n",
       "      <td>0</td>\n",
       "      <td>1</td>\n",
       "      <td>1</td>\n",
       "      <td>1</td>\n",
       "      <td>0</td>\n",
       "      <td>1</td>\n",
       "      <td>1</td>\n",
       "      <td>1</td>\n",
       "      <td>0</td>\n",
       "    </tr>\n",
       "    <tr>\n",
       "      <th>...</th>\n",
       "      <td>...</td>\n",
       "      <td>...</td>\n",
       "      <td>...</td>\n",
       "      <td>...</td>\n",
       "      <td>...</td>\n",
       "      <td>...</td>\n",
       "      <td>...</td>\n",
       "      <td>...</td>\n",
       "      <td>...</td>\n",
       "      <td>...</td>\n",
       "      <td>...</td>\n",
       "      <td>...</td>\n",
       "      <td>...</td>\n",
       "      <td>...</td>\n",
       "      <td>...</td>\n",
       "    </tr>\n",
       "    <tr>\n",
       "      <th>8338</th>\n",
       "      <td>TwoXChromosomes</td>\n",
       "      <td>85</td>\n",
       "      <td>866</td>\n",
       "      <td>1700</td>\n",
       "      <td>Thursday</td>\n",
       "      <td>24359</td>\n",
       "      <td>0</td>\n",
       "      <td>1</td>\n",
       "      <td>1</td>\n",
       "      <td>1</td>\n",
       "      <td>0</td>\n",
       "      <td>1</td>\n",
       "      <td>1</td>\n",
       "      <td>1</td>\n",
       "      <td>0</td>\n",
       "    </tr>\n",
       "    <tr>\n",
       "      <th>8339</th>\n",
       "      <td>Libertarian</td>\n",
       "      <td>119</td>\n",
       "      <td>431</td>\n",
       "      <td>2000</td>\n",
       "      <td>Thursday</td>\n",
       "      <td>24360</td>\n",
       "      <td>0</td>\n",
       "      <td>1</td>\n",
       "      <td>1</td>\n",
       "      <td>1</td>\n",
       "      <td>0</td>\n",
       "      <td>1</td>\n",
       "      <td>1</td>\n",
       "      <td>0</td>\n",
       "      <td>0</td>\n",
       "    </tr>\n",
       "    <tr>\n",
       "      <th>8340</th>\n",
       "      <td>futurama</td>\n",
       "      <td>3</td>\n",
       "      <td>158</td>\n",
       "      <td>100</td>\n",
       "      <td>Friday</td>\n",
       "      <td>24363</td>\n",
       "      <td>0</td>\n",
       "      <td>0</td>\n",
       "      <td>0</td>\n",
       "      <td>0</td>\n",
       "      <td>0</td>\n",
       "      <td>1</td>\n",
       "      <td>0</td>\n",
       "      <td>0</td>\n",
       "      <td>0</td>\n",
       "    </tr>\n",
       "    <tr>\n",
       "      <th>8341</th>\n",
       "      <td>kpics</td>\n",
       "      <td>0</td>\n",
       "      <td>140</td>\n",
       "      <td>2200</td>\n",
       "      <td>Thursday</td>\n",
       "      <td>24364</td>\n",
       "      <td>0</td>\n",
       "      <td>0</td>\n",
       "      <td>0</td>\n",
       "      <td>0</td>\n",
       "      <td>0</td>\n",
       "      <td>1</td>\n",
       "      <td>0</td>\n",
       "      <td>0</td>\n",
       "      <td>0</td>\n",
       "    </tr>\n",
       "    <tr>\n",
       "      <th>8342</th>\n",
       "      <td>EngineeringStudents</td>\n",
       "      <td>58</td>\n",
       "      <td>426</td>\n",
       "      <td>1600</td>\n",
       "      <td>Thursday</td>\n",
       "      <td>24367</td>\n",
       "      <td>0</td>\n",
       "      <td>1</td>\n",
       "      <td>1</td>\n",
       "      <td>1</td>\n",
       "      <td>0</td>\n",
       "      <td>1</td>\n",
       "      <td>1</td>\n",
       "      <td>0</td>\n",
       "      <td>0</td>\n",
       "    </tr>\n",
       "    <tr>\n",
       "      <th>8343</th>\n",
       "      <td>TrollCoping</td>\n",
       "      <td>3</td>\n",
       "      <td>77</td>\n",
       "      <td>100</td>\n",
       "      <td>Friday</td>\n",
       "      <td>24368</td>\n",
       "      <td>0</td>\n",
       "      <td>0</td>\n",
       "      <td>0</td>\n",
       "      <td>0</td>\n",
       "      <td>0</td>\n",
       "      <td>1</td>\n",
       "      <td>0</td>\n",
       "      <td>0</td>\n",
       "      <td>0</td>\n",
       "    </tr>\n",
       "    <tr>\n",
       "      <th>8344</th>\n",
       "      <td>uglyduckling</td>\n",
       "      <td>24</td>\n",
       "      <td>255</td>\n",
       "      <td>1900</td>\n",
       "      <td>Thursday</td>\n",
       "      <td>24370</td>\n",
       "      <td>0</td>\n",
       "      <td>1</td>\n",
       "      <td>1</td>\n",
       "      <td>0</td>\n",
       "      <td>0</td>\n",
       "      <td>1</td>\n",
       "      <td>1</td>\n",
       "      <td>0</td>\n",
       "      <td>0</td>\n",
       "    </tr>\n",
       "    <tr>\n",
       "      <th>8345</th>\n",
       "      <td>Rabbits</td>\n",
       "      <td>4</td>\n",
       "      <td>296</td>\n",
       "      <td>2200</td>\n",
       "      <td>Thursday</td>\n",
       "      <td>24371</td>\n",
       "      <td>0</td>\n",
       "      <td>0</td>\n",
       "      <td>0</td>\n",
       "      <td>0</td>\n",
       "      <td>0</td>\n",
       "      <td>1</td>\n",
       "      <td>1</td>\n",
       "      <td>0</td>\n",
       "      <td>0</td>\n",
       "    </tr>\n",
       "    <tr>\n",
       "      <th>8346</th>\n",
       "      <td>PoliticalDiscussion</td>\n",
       "      <td>289</td>\n",
       "      <td>130</td>\n",
       "      <td>2200</td>\n",
       "      <td>Thursday</td>\n",
       "      <td>24372</td>\n",
       "      <td>0</td>\n",
       "      <td>1</td>\n",
       "      <td>1</td>\n",
       "      <td>1</td>\n",
       "      <td>1</td>\n",
       "      <td>1</td>\n",
       "      <td>0</td>\n",
       "      <td>0</td>\n",
       "      <td>0</td>\n",
       "    </tr>\n",
       "    <tr>\n",
       "      <th>8347</th>\n",
       "      <td>LushCosmetics</td>\n",
       "      <td>29</td>\n",
       "      <td>180</td>\n",
       "      <td>2100</td>\n",
       "      <td>Thursday</td>\n",
       "      <td>24373</td>\n",
       "      <td>0</td>\n",
       "      <td>1</td>\n",
       "      <td>1</td>\n",
       "      <td>0</td>\n",
       "      <td>0</td>\n",
       "      <td>1</td>\n",
       "      <td>1</td>\n",
       "      <td>0</td>\n",
       "      <td>0</td>\n",
       "    </tr>\n",
       "    <tr>\n",
       "      <th>8348</th>\n",
       "      <td>IncelTears</td>\n",
       "      <td>83</td>\n",
       "      <td>534</td>\n",
       "      <td>1900</td>\n",
       "      <td>Thursday</td>\n",
       "      <td>24375</td>\n",
       "      <td>0</td>\n",
       "      <td>1</td>\n",
       "      <td>1</td>\n",
       "      <td>1</td>\n",
       "      <td>0</td>\n",
       "      <td>1</td>\n",
       "      <td>1</td>\n",
       "      <td>0</td>\n",
       "      <td>0</td>\n",
       "    </tr>\n",
       "    <tr>\n",
       "      <th>8349</th>\n",
       "      <td>CFB</td>\n",
       "      <td>47</td>\n",
       "      <td>59</td>\n",
       "      <td>100</td>\n",
       "      <td>Friday</td>\n",
       "      <td>24901</td>\n",
       "      <td>0</td>\n",
       "      <td>1</td>\n",
       "      <td>1</td>\n",
       "      <td>1</td>\n",
       "      <td>0</td>\n",
       "      <td>1</td>\n",
       "      <td>0</td>\n",
       "      <td>0</td>\n",
       "      <td>0</td>\n",
       "    </tr>\n",
       "    <tr>\n",
       "      <th>8350</th>\n",
       "      <td>youtubehaiku</td>\n",
       "      <td>19</td>\n",
       "      <td>891</td>\n",
       "      <td>1500</td>\n",
       "      <td>Thursday</td>\n",
       "      <td>24903</td>\n",
       "      <td>0</td>\n",
       "      <td>1</td>\n",
       "      <td>1</td>\n",
       "      <td>0</td>\n",
       "      <td>0</td>\n",
       "      <td>1</td>\n",
       "      <td>1</td>\n",
       "      <td>1</td>\n",
       "      <td>0</td>\n",
       "    </tr>\n",
       "    <tr>\n",
       "      <th>8351</th>\n",
       "      <td>rarepuppers</td>\n",
       "      <td>1</td>\n",
       "      <td>66</td>\n",
       "      <td>0</td>\n",
       "      <td>Friday</td>\n",
       "      <td>24904</td>\n",
       "      <td>0</td>\n",
       "      <td>0</td>\n",
       "      <td>0</td>\n",
       "      <td>0</td>\n",
       "      <td>0</td>\n",
       "      <td>1</td>\n",
       "      <td>0</td>\n",
       "      <td>0</td>\n",
       "      <td>0</td>\n",
       "    </tr>\n",
       "    <tr>\n",
       "      <th>8352</th>\n",
       "      <td>forhonor</td>\n",
       "      <td>13</td>\n",
       "      <td>132</td>\n",
       "      <td>2000</td>\n",
       "      <td>Thursday</td>\n",
       "      <td>24905</td>\n",
       "      <td>0</td>\n",
       "      <td>1</td>\n",
       "      <td>0</td>\n",
       "      <td>0</td>\n",
       "      <td>0</td>\n",
       "      <td>1</td>\n",
       "      <td>0</td>\n",
       "      <td>0</td>\n",
       "      <td>0</td>\n",
       "    </tr>\n",
       "    <tr>\n",
       "      <th>8353</th>\n",
       "      <td>OldSchoolCool</td>\n",
       "      <td>4</td>\n",
       "      <td>165</td>\n",
       "      <td>1900</td>\n",
       "      <td>Thursday</td>\n",
       "      <td>24907</td>\n",
       "      <td>0</td>\n",
       "      <td>0</td>\n",
       "      <td>0</td>\n",
       "      <td>0</td>\n",
       "      <td>0</td>\n",
       "      <td>1</td>\n",
       "      <td>0</td>\n",
       "      <td>0</td>\n",
       "      <td>0</td>\n",
       "    </tr>\n",
       "    <tr>\n",
       "      <th>8354</th>\n",
       "      <td>LivestreamFail</td>\n",
       "      <td>14</td>\n",
       "      <td>247</td>\n",
       "      <td>1700</td>\n",
       "      <td>Thursday</td>\n",
       "      <td>24908</td>\n",
       "      <td>0</td>\n",
       "      <td>1</td>\n",
       "      <td>0</td>\n",
       "      <td>0</td>\n",
       "      <td>0</td>\n",
       "      <td>1</td>\n",
       "      <td>1</td>\n",
       "      <td>0</td>\n",
       "      <td>0</td>\n",
       "    </tr>\n",
       "    <tr>\n",
       "      <th>8355</th>\n",
       "      <td>Bitcoin</td>\n",
       "      <td>23</td>\n",
       "      <td>78</td>\n",
       "      <td>0</td>\n",
       "      <td>Friday</td>\n",
       "      <td>24909</td>\n",
       "      <td>0</td>\n",
       "      <td>1</td>\n",
       "      <td>1</td>\n",
       "      <td>0</td>\n",
       "      <td>0</td>\n",
       "      <td>1</td>\n",
       "      <td>0</td>\n",
       "      <td>0</td>\n",
       "      <td>0</td>\n",
       "    </tr>\n",
       "    <tr>\n",
       "      <th>8356</th>\n",
       "      <td>furry_irl</td>\n",
       "      <td>0</td>\n",
       "      <td>38</td>\n",
       "      <td>100</td>\n",
       "      <td>Friday</td>\n",
       "      <td>24910</td>\n",
       "      <td>0</td>\n",
       "      <td>0</td>\n",
       "      <td>0</td>\n",
       "      <td>0</td>\n",
       "      <td>0</td>\n",
       "      <td>0</td>\n",
       "      <td>0</td>\n",
       "      <td>0</td>\n",
       "      <td>0</td>\n",
       "    </tr>\n",
       "    <tr>\n",
       "      <th>8357</th>\n",
       "      <td>FireEmblemHeroes</td>\n",
       "      <td>61</td>\n",
       "      <td>747</td>\n",
       "      <td>1500</td>\n",
       "      <td>Thursday</td>\n",
       "      <td>24911</td>\n",
       "      <td>0</td>\n",
       "      <td>1</td>\n",
       "      <td>1</td>\n",
       "      <td>1</td>\n",
       "      <td>0</td>\n",
       "      <td>1</td>\n",
       "      <td>1</td>\n",
       "      <td>1</td>\n",
       "      <td>0</td>\n",
       "    </tr>\n",
       "    <tr>\n",
       "      <th>8358</th>\n",
       "      <td>kpop</td>\n",
       "      <td>0</td>\n",
       "      <td>37</td>\n",
       "      <td>300</td>\n",
       "      <td>Friday</td>\n",
       "      <td>24912</td>\n",
       "      <td>0</td>\n",
       "      <td>0</td>\n",
       "      <td>0</td>\n",
       "      <td>0</td>\n",
       "      <td>0</td>\n",
       "      <td>0</td>\n",
       "      <td>0</td>\n",
       "      <td>0</td>\n",
       "      <td>0</td>\n",
       "    </tr>\n",
       "    <tr>\n",
       "      <th>8359</th>\n",
       "      <td>baseball</td>\n",
       "      <td>62</td>\n",
       "      <td>267</td>\n",
       "      <td>1600</td>\n",
       "      <td>Thursday</td>\n",
       "      <td>24915</td>\n",
       "      <td>0</td>\n",
       "      <td>1</td>\n",
       "      <td>1</td>\n",
       "      <td>1</td>\n",
       "      <td>0</td>\n",
       "      <td>1</td>\n",
       "      <td>1</td>\n",
       "      <td>0</td>\n",
       "      <td>0</td>\n",
       "    </tr>\n",
       "    <tr>\n",
       "      <th>8360</th>\n",
       "      <td>Showerthoughts</td>\n",
       "      <td>14</td>\n",
       "      <td>186</td>\n",
       "      <td>2200</td>\n",
       "      <td>Thursday</td>\n",
       "      <td>24917</td>\n",
       "      <td>0</td>\n",
       "      <td>1</td>\n",
       "      <td>0</td>\n",
       "      <td>0</td>\n",
       "      <td>0</td>\n",
       "      <td>1</td>\n",
       "      <td>1</td>\n",
       "      <td>0</td>\n",
       "      <td>0</td>\n",
       "    </tr>\n",
       "    <tr>\n",
       "      <th>8361</th>\n",
       "      <td>MMA</td>\n",
       "      <td>94</td>\n",
       "      <td>124</td>\n",
       "      <td>0</td>\n",
       "      <td>Friday</td>\n",
       "      <td>24918</td>\n",
       "      <td>0</td>\n",
       "      <td>1</td>\n",
       "      <td>1</td>\n",
       "      <td>1</td>\n",
       "      <td>0</td>\n",
       "      <td>1</td>\n",
       "      <td>0</td>\n",
       "      <td>0</td>\n",
       "      <td>0</td>\n",
       "    </tr>\n",
       "    <tr>\n",
       "      <th>8362</th>\n",
       "      <td>2meirl4meirl</td>\n",
       "      <td>4</td>\n",
       "      <td>35</td>\n",
       "      <td>200</td>\n",
       "      <td>Friday</td>\n",
       "      <td>24919</td>\n",
       "      <td>0</td>\n",
       "      <td>0</td>\n",
       "      <td>0</td>\n",
       "      <td>0</td>\n",
       "      <td>0</td>\n",
       "      <td>0</td>\n",
       "      <td>0</td>\n",
       "      <td>0</td>\n",
       "      <td>0</td>\n",
       "    </tr>\n",
       "    <tr>\n",
       "      <th>8363</th>\n",
       "      <td>MLS</td>\n",
       "      <td>14</td>\n",
       "      <td>93</td>\n",
       "      <td>2200</td>\n",
       "      <td>Thursday</td>\n",
       "      <td>24920</td>\n",
       "      <td>0</td>\n",
       "      <td>1</td>\n",
       "      <td>0</td>\n",
       "      <td>0</td>\n",
       "      <td>0</td>\n",
       "      <td>1</td>\n",
       "      <td>0</td>\n",
       "      <td>0</td>\n",
       "      <td>0</td>\n",
       "    </tr>\n",
       "    <tr>\n",
       "      <th>8364</th>\n",
       "      <td>Sneakers</td>\n",
       "      <td>11</td>\n",
       "      <td>53</td>\n",
       "      <td>0</td>\n",
       "      <td>Friday</td>\n",
       "      <td>24922</td>\n",
       "      <td>0</td>\n",
       "      <td>1</td>\n",
       "      <td>0</td>\n",
       "      <td>0</td>\n",
       "      <td>0</td>\n",
       "      <td>0</td>\n",
       "      <td>0</td>\n",
       "      <td>0</td>\n",
       "      <td>0</td>\n",
       "    </tr>\n",
       "    <tr>\n",
       "      <th>8365</th>\n",
       "      <td>food</td>\n",
       "      <td>4</td>\n",
       "      <td>34</td>\n",
       "      <td>100</td>\n",
       "      <td>Friday</td>\n",
       "      <td>24923</td>\n",
       "      <td>0</td>\n",
       "      <td>0</td>\n",
       "      <td>0</td>\n",
       "      <td>0</td>\n",
       "      <td>0</td>\n",
       "      <td>0</td>\n",
       "      <td>0</td>\n",
       "      <td>0</td>\n",
       "      <td>0</td>\n",
       "    </tr>\n",
       "    <tr>\n",
       "      <th>8366</th>\n",
       "      <td>iphone</td>\n",
       "      <td>4</td>\n",
       "      <td>90</td>\n",
       "      <td>2100</td>\n",
       "      <td>Thursday</td>\n",
       "      <td>24924</td>\n",
       "      <td>0</td>\n",
       "      <td>0</td>\n",
       "      <td>0</td>\n",
       "      <td>0</td>\n",
       "      <td>0</td>\n",
       "      <td>1</td>\n",
       "      <td>0</td>\n",
       "      <td>0</td>\n",
       "      <td>0</td>\n",
       "    </tr>\n",
       "    <tr>\n",
       "      <th>8367</th>\n",
       "      <td>formula1</td>\n",
       "      <td>2</td>\n",
       "      <td>25</td>\n",
       "      <td>400</td>\n",
       "      <td>Friday</td>\n",
       "      <td>24925</td>\n",
       "      <td>0</td>\n",
       "      <td>0</td>\n",
       "      <td>0</td>\n",
       "      <td>0</td>\n",
       "      <td>0</td>\n",
       "      <td>0</td>\n",
       "      <td>0</td>\n",
       "      <td>0</td>\n",
       "      <td>0</td>\n",
       "    </tr>\n",
       "  </tbody>\n",
       "</table>\n",
       "<p>8368 rows × 15 columns</p>\n",
       "</div>"
      ],
      "text/plain": [
       "                subreddit  comments  score  post_time_hours post_day_of_week  \\\n",
       "0                    news      5419  15315             1900          Tuesday   \n",
       "1                   funny       811  77648             1800          Tuesday   \n",
       "2          wholesomememes        62   8202             1800          Tuesday   \n",
       "3                    pics       678  21656             1700          Tuesday   \n",
       "4       AnimalsBeingJerks       563  12019             1700          Tuesday   \n",
       "5                    gifs       381  25529             1600          Tuesday   \n",
       "6                     aww       207  19248             1700          Tuesday   \n",
       "7                facepalm      1301  25460             1500          Tuesday   \n",
       "8               worldnews       394   9187             1700          Tuesday   \n",
       "9                freebies       387  27606             1500          Tuesday   \n",
       "10          todayilearned      1117  46842             1500          Tuesday   \n",
       "11                 Tinder       687  37331             1500          Tuesday   \n",
       "12                 canada       542  17147             1500          Tuesday   \n",
       "13         AnimalTextGifs       218  14512             1500          Tuesday   \n",
       "14                  IASIP       142  18323             1500          Tuesday   \n",
       "15                 comics        83   9973             1500          Tuesday   \n",
       "16                 gaming       608  22747             1400          Tuesday   \n",
       "17              copypasta       108   5072             1700          Tuesday   \n",
       "18        HumansBeingBros      1344  32007             1300          Tuesday   \n",
       "19     BlackPeopleTwitter       162  13287             1400          Tuesday   \n",
       "20           surrealmemes        80   9484             1500          Tuesday   \n",
       "21      youseeingthisshit       147   7991             1500          Tuesday   \n",
       "22              Eyebleach       357  20178             1300          Tuesday   \n",
       "23    CatastrophicFailure       465  10284             1400          Tuesday   \n",
       "24          JusticeServed       344   3521             1700          Tuesday   \n",
       "25                   news       135    659             1300          Tuesday   \n",
       "26                 videos       103    784             1300          Tuesday   \n",
       "27                   beer        67    772             1600          Tuesday   \n",
       "28            rarepuppers        23   2169             1300          Tuesday   \n",
       "29                 videos       125   1942             1300          Tuesday   \n",
       "...                   ...       ...    ...              ...              ...   \n",
       "8338      TwoXChromosomes        85    866             1700         Thursday   \n",
       "8339          Libertarian       119    431             2000         Thursday   \n",
       "8340             futurama         3    158              100           Friday   \n",
       "8341                kpics         0    140             2200         Thursday   \n",
       "8342  EngineeringStudents        58    426             1600         Thursday   \n",
       "8343          TrollCoping         3     77              100           Friday   \n",
       "8344         uglyduckling        24    255             1900         Thursday   \n",
       "8345              Rabbits         4    296             2200         Thursday   \n",
       "8346  PoliticalDiscussion       289    130             2200         Thursday   \n",
       "8347        LushCosmetics        29    180             2100         Thursday   \n",
       "8348           IncelTears        83    534             1900         Thursday   \n",
       "8349                  CFB        47     59              100           Friday   \n",
       "8350         youtubehaiku        19    891             1500         Thursday   \n",
       "8351          rarepuppers         1     66                0           Friday   \n",
       "8352             forhonor        13    132             2000         Thursday   \n",
       "8353        OldSchoolCool         4    165             1900         Thursday   \n",
       "8354       LivestreamFail        14    247             1700         Thursday   \n",
       "8355              Bitcoin        23     78                0           Friday   \n",
       "8356            furry_irl         0     38              100           Friday   \n",
       "8357     FireEmblemHeroes        61    747             1500         Thursday   \n",
       "8358                 kpop         0     37              300           Friday   \n",
       "8359             baseball        62    267             1600         Thursday   \n",
       "8360       Showerthoughts        14    186             2200         Thursday   \n",
       "8361                  MMA        94    124                0           Friday   \n",
       "8362         2meirl4meirl         4     35              200           Friday   \n",
       "8363                  MLS        14     93             2200         Thursday   \n",
       "8364             Sneakers        11     53                0           Friday   \n",
       "8365                 food         4     34              100           Friday   \n",
       "8366               iphone         4     90             2100         Thursday   \n",
       "8367             formula1         2     25              400           Friday   \n",
       "\n",
       "       rank  crossposts  Comments_25th_percentile  Comments_Median  \\\n",
       "0         1           0                         1                1   \n",
       "1         2           0                         1                1   \n",
       "2         3           0                         1                1   \n",
       "3         4           0                         1                1   \n",
       "4         5           0                         1                1   \n",
       "5         6           0                         1                1   \n",
       "6         7           0                         1                1   \n",
       "7         8           0                         1                1   \n",
       "8         9           0                         1                1   \n",
       "9        10           0                         1                1   \n",
       "10       11           0                         1                1   \n",
       "11       12           0                         1                1   \n",
       "12       13           0                         1                1   \n",
       "13       14           0                         1                1   \n",
       "14       15           0                         1                1   \n",
       "15       16           0                         1                1   \n",
       "16       17           0                         1                1   \n",
       "17       18           0                         1                1   \n",
       "18       19           0                         1                1   \n",
       "19       20           0                         1                1   \n",
       "20       21           0                         1                1   \n",
       "21       22           1                         1                1   \n",
       "22       23           0                         1                1   \n",
       "23       24           0                         1                1   \n",
       "24       25           0                         1                1   \n",
       "25       26           0                         1                1   \n",
       "26       27           0                         1                1   \n",
       "27       28           0                         1                1   \n",
       "28       29           1                         1                1   \n",
       "29       30           0                         1                1   \n",
       "...     ...         ...                       ...              ...   \n",
       "8338  24359           0                         1                1   \n",
       "8339  24360           0                         1                1   \n",
       "8340  24363           0                         0                0   \n",
       "8341  24364           0                         0                0   \n",
       "8342  24367           0                         1                1   \n",
       "8343  24368           0                         0                0   \n",
       "8344  24370           0                         1                1   \n",
       "8345  24371           0                         0                0   \n",
       "8346  24372           0                         1                1   \n",
       "8347  24373           0                         1                1   \n",
       "8348  24375           0                         1                1   \n",
       "8349  24901           0                         1                1   \n",
       "8350  24903           0                         1                1   \n",
       "8351  24904           0                         0                0   \n",
       "8352  24905           0                         1                0   \n",
       "8353  24907           0                         0                0   \n",
       "8354  24908           0                         1                0   \n",
       "8355  24909           0                         1                1   \n",
       "8356  24910           0                         0                0   \n",
       "8357  24911           0                         1                1   \n",
       "8358  24912           0                         0                0   \n",
       "8359  24915           0                         1                1   \n",
       "8360  24917           0                         1                0   \n",
       "8361  24918           0                         1                1   \n",
       "8362  24919           0                         0                0   \n",
       "8363  24920           0                         1                0   \n",
       "8364  24922           0                         1                0   \n",
       "8365  24923           0                         0                0   \n",
       "8366  24924           0                         0                0   \n",
       "8367  24925           0                         0                0   \n",
       "\n",
       "      Comments_75th_percentile  Comments_95th_percentile  \\\n",
       "0                            1                         1   \n",
       "1                            1                         1   \n",
       "2                            1                         0   \n",
       "3                            1                         1   \n",
       "4                            1                         1   \n",
       "5                            1                         1   \n",
       "6                            1                         0   \n",
       "7                            1                         1   \n",
       "8                            1                         1   \n",
       "9                            1                         1   \n",
       "10                           1                         1   \n",
       "11                           1                         1   \n",
       "12                           1                         1   \n",
       "13                           1                         0   \n",
       "14                           1                         0   \n",
       "15                           1                         0   \n",
       "16                           1                         1   \n",
       "17                           1                         0   \n",
       "18                           1                         1   \n",
       "19                           1                         0   \n",
       "20                           1                         0   \n",
       "21                           1                         0   \n",
       "22                           1                         1   \n",
       "23                           1                         1   \n",
       "24                           1                         1   \n",
       "25                           1                         0   \n",
       "26                           1                         0   \n",
       "27                           1                         0   \n",
       "28                           0                         0   \n",
       "29                           1                         0   \n",
       "...                        ...                       ...   \n",
       "8338                         1                         0   \n",
       "8339                         1                         0   \n",
       "8340                         0                         0   \n",
       "8341                         0                         0   \n",
       "8342                         1                         0   \n",
       "8343                         0                         0   \n",
       "8344                         0                         0   \n",
       "8345                         0                         0   \n",
       "8346                         1                         1   \n",
       "8347                         0                         0   \n",
       "8348                         1                         0   \n",
       "8349                         1                         0   \n",
       "8350                         0                         0   \n",
       "8351                         0                         0   \n",
       "8352                         0                         0   \n",
       "8353                         0                         0   \n",
       "8354                         0                         0   \n",
       "8355                         0                         0   \n",
       "8356                         0                         0   \n",
       "8357                         1                         0   \n",
       "8358                         0                         0   \n",
       "8359                         1                         0   \n",
       "8360                         0                         0   \n",
       "8361                         1                         0   \n",
       "8362                         0                         0   \n",
       "8363                         0                         0   \n",
       "8364                         0                         0   \n",
       "8365                         0                         0   \n",
       "8366                         0                         0   \n",
       "8367                         0                         0   \n",
       "\n",
       "      Score_25th_percentile  Score_Median  Score_75th_percentile  \\\n",
       "0                         1             1                      1   \n",
       "1                         1             1                      1   \n",
       "2                         1             1                      1   \n",
       "3                         1             1                      1   \n",
       "4                         1             1                      1   \n",
       "5                         1             1                      1   \n",
       "6                         1             1                      1   \n",
       "7                         1             1                      1   \n",
       "8                         1             1                      1   \n",
       "9                         1             1                      1   \n",
       "10                        1             1                      1   \n",
       "11                        1             1                      1   \n",
       "12                        1             1                      1   \n",
       "13                        1             1                      1   \n",
       "14                        1             1                      1   \n",
       "15                        1             1                      1   \n",
       "16                        1             1                      1   \n",
       "17                        1             1                      1   \n",
       "18                        1             1                      1   \n",
       "19                        1             1                      1   \n",
       "20                        1             1                      1   \n",
       "21                        1             1                      1   \n",
       "22                        1             1                      1   \n",
       "23                        1             1                      1   \n",
       "24                        1             1                      1   \n",
       "25                        1             1                      1   \n",
       "26                        1             1                      1   \n",
       "27                        1             1                      1   \n",
       "28                        1             1                      1   \n",
       "29                        1             1                      1   \n",
       "...                     ...           ...                    ...   \n",
       "8338                      1             1                      1   \n",
       "8339                      1             1                      0   \n",
       "8340                      1             0                      0   \n",
       "8341                      1             0                      0   \n",
       "8342                      1             1                      0   \n",
       "8343                      1             0                      0   \n",
       "8344                      1             1                      0   \n",
       "8345                      1             1                      0   \n",
       "8346                      1             0                      0   \n",
       "8347                      1             1                      0   \n",
       "8348                      1             1                      0   \n",
       "8349                      1             0                      0   \n",
       "8350                      1             1                      1   \n",
       "8351                      1             0                      0   \n",
       "8352                      1             0                      0   \n",
       "8353                      1             0                      0   \n",
       "8354                      1             1                      0   \n",
       "8355                      1             0                      0   \n",
       "8356                      0             0                      0   \n",
       "8357                      1             1                      1   \n",
       "8358                      0             0                      0   \n",
       "8359                      1             1                      0   \n",
       "8360                      1             1                      0   \n",
       "8361                      1             0                      0   \n",
       "8362                      0             0                      0   \n",
       "8363                      1             0                      0   \n",
       "8364                      0             0                      0   \n",
       "8365                      0             0                      0   \n",
       "8366                      1             0                      0   \n",
       "8367                      0             0                      0   \n",
       "\n",
       "      Score_95th_percentile  \n",
       "0                         1  \n",
       "1                         1  \n",
       "2                         1  \n",
       "3                         1  \n",
       "4                         1  \n",
       "5                         1  \n",
       "6                         1  \n",
       "7                         1  \n",
       "8                         1  \n",
       "9                         1  \n",
       "10                        1  \n",
       "11                        1  \n",
       "12                        1  \n",
       "13                        1  \n",
       "14                        1  \n",
       "15                        1  \n",
       "16                        1  \n",
       "17                        0  \n",
       "18                        1  \n",
       "19                        1  \n",
       "20                        1  \n",
       "21                        1  \n",
       "22                        1  \n",
       "23                        1  \n",
       "24                        0  \n",
       "25                        0  \n",
       "26                        0  \n",
       "27                        0  \n",
       "28                        0  \n",
       "29                        0  \n",
       "...                     ...  \n",
       "8338                      0  \n",
       "8339                      0  \n",
       "8340                      0  \n",
       "8341                      0  \n",
       "8342                      0  \n",
       "8343                      0  \n",
       "8344                      0  \n",
       "8345                      0  \n",
       "8346                      0  \n",
       "8347                      0  \n",
       "8348                      0  \n",
       "8349                      0  \n",
       "8350                      0  \n",
       "8351                      0  \n",
       "8352                      0  \n",
       "8353                      0  \n",
       "8354                      0  \n",
       "8355                      0  \n",
       "8356                      0  \n",
       "8357                      0  \n",
       "8358                      0  \n",
       "8359                      0  \n",
       "8360                      0  \n",
       "8361                      0  \n",
       "8362                      0  \n",
       "8363                      0  \n",
       "8364                      0  \n",
       "8365                      0  \n",
       "8366                      0  \n",
       "8367                      0  \n",
       "\n",
       "[8368 rows x 15 columns]"
      ]
     },
     "execution_count": 269,
     "metadata": {},
     "output_type": "execute_result"
    }
   ],
   "source": [
    "datauniquenum.reset_index(drop=True)"
   ]
  },
  {
   "cell_type": "code",
   "execution_count": 270,
   "metadata": {
    "ExecuteTime": {
     "end_time": "2017-11-03T09:32:43.456763Z",
     "start_time": "2017-11-03T09:32:43.453449Z"
    },
    "hidden": true
   },
   "outputs": [],
   "source": [
    "datauniquenum1 = datauniquenum.copy()"
   ]
  },
  {
   "cell_type": "markdown",
   "metadata": {},
   "source": [
    "# Visualizations!"
   ]
  },
  {
   "cell_type": "markdown",
   "metadata": {
    "heading_collapsed": true
   },
   "source": [
    "## Mean Score for Top Ten Subreddits"
   ]
  },
  {
   "cell_type": "code",
   "execution_count": 282,
   "metadata": {
    "ExecuteTime": {
     "end_time": "2017-11-03T09:35:25.230599Z",
     "start_time": "2017-11-03T09:35:24.397105Z"
    },
    "hidden": true,
    "run_control": {
     "marked": true
    },
    "scrolled": false
   },
   "outputs": [
    {
     "data": {
      "text/plain": [
       "Text(0,0.5,'Mean Score')"
      ]
     },
     "execution_count": 282,
     "metadata": {},
     "output_type": "execute_result"
    },
    {
     "data": {
      "image/png": "[encoded data removed]",
      "text/plain": [
       "<matplotlib.figure.Figure at 0x12af4c358>"
      ]
     },
     "metadata": {},
     "output_type": "display_data"
    }
   ],
   "source": [
    "fig, ax = plt.subplots()\n",
    "fig.set_size_inches(15, 15)\n",
    "\n",
    "scmeanorder = (dataunique.groupby('subreddit')['score'].apply(np.mean).sort_values(ascending = False)[:10].index)\n",
    "\n",
    "sns.barplot(x='subreddit', y='score', data=dataunique, order=scmeanorder, ci=0)\n",
    "plt.xticks(rotation=15)\n",
    "plt.title('The Ten Subreddits with the Highest Mean Score')\n",
    "plt.ylabel('Mean Score')"
   ]
  },
  {
   "cell_type": "markdown",
   "metadata": {
    "heading_collapsed": true
   },
   "source": [
    "## Median Score for Top Ten Subreddits"
   ]
  },
  {
   "cell_type": "code",
   "execution_count": 298,
   "metadata": {
    "ExecuteTime": {
     "end_time": "2017-11-03T09:49:29.076144Z",
     "start_time": "2017-11-03T09:49:28.352616Z"
    },
    "hidden": true
   },
   "outputs": [
    {
     "data": {
      "text/plain": [
       "Text(0,0.5,'Median Score')"
      ]
     },
     "execution_count": 298,
     "metadata": {},
     "output_type": "execute_result"
    },
    {
     "data": {
      "image/png": "[encoded data removed]",
      "text/plain": [
       "<matplotlib.figure.Figure at 0x128d70278>"
      ]
     },
     "metadata": {},
     "output_type": "display_data"
    }
   ],
   "source": [
    "fig, ax = plt.subplots()\n",
    "fig.set_size_inches(12, 12)\n",
    "\n",
    "scmedorder = (dataunique.groupby('subreddit')['score'].apply(np.median).sort_values(ascending = False)[:10].index)\n",
    "\n",
    "sns.barplot(x='subreddit', y='score', data=dataunique, order=scmedorder, ci=0)\n",
    "plt.xticks(rotation=35)\n",
    "plt.title('Ten subreddits with the Highest Median Score')\n",
    "plt.ylabel('Median Score')"
   ]
  },
  {
   "cell_type": "markdown",
   "metadata": {
    "heading_collapsed": true
   },
   "source": [
    "## Ten Subreddits with the Highest Mean Comment Count"
   ]
  },
  {
   "cell_type": "code",
   "execution_count": 299,
   "metadata": {
    "ExecuteTime": {
     "end_time": "2017-11-03T09:51:00.167455Z",
     "start_time": "2017-11-03T09:50:59.321968Z"
    },
    "hidden": true
   },
   "outputs": [
    {
     "data": {
      "text/plain": [
       "Text(0,0.5,'Mean Number of Comments')"
      ]
     },
     "execution_count": 299,
     "metadata": {},
     "output_type": "execute_result"
    },
    {
     "data": {
      "image/png": "[encoded data removed]",
      "text/plain": [
       "<matplotlib.figure.Figure at 0x12af30be0>"
      ]
     },
     "metadata": {},
     "output_type": "display_data"
    }
   ],
   "source": [
    "fig, ax = plt.subplots()\n",
    "fig.set_size_inches(14, 14)\n",
    "\n",
    "order = (dataunique.groupby('subreddit')['comments'].apply(np.mean).sort_values(ascending = False)[:10].index)\n",
    "\n",
    "sns.barplot(x='subreddit', y='comments', data=dataunique, order=order, ci=0)\n",
    "plt.xticks(rotation=0)\n",
    "plt.title('The Ten Subreddits with the Highest Mean Comment Count')\n",
    "plt.ylabel(\"Mean Number of Comments\")"
   ]
  },
  {
   "cell_type": "markdown",
   "metadata": {
    "heading_collapsed": true
   },
   "source": [
    "## Ten subreddits with the Highest Median Comment Counts"
   ]
  },
  {
   "cell_type": "code",
   "execution_count": 322,
   "metadata": {
    "ExecuteTime": {
     "end_time": "2017-11-03T10:19:33.129412Z",
     "start_time": "2017-11-03T10:19:32.417708Z"
    },
    "hidden": true,
    "run_control": {
     "marked": true
    }
   },
   "outputs": [
    {
     "data": {
      "text/plain": [
       "Text(0,0.5,'Median Score')"
      ]
     },
     "execution_count": 322,
     "metadata": {},
     "output_type": "execute_result"
    },
    {
     "data": {
      "image/png": "[encoded data removed]",
      "text/plain": [
       "<matplotlib.figure.Figure at 0x12b0210b8>"
      ]
     },
     "metadata": {},
     "output_type": "display_data"
    }
   ],
   "source": [
    "fig, ax = plt.subplots()\n",
    "fig.set_size_inches(12, 12)\n",
    "\n",
    "order = (dataunique.groupby('subreddit')['comments'].apply(np.median).sort_values(ascending = False)[:10].index)\n",
    "\n",
    "sns.barplot(x='subreddit', y='comments', data=dataunique, order=order, ci=0)\n",
    "plt.xticks(rotation=65)\n",
    "plt.title('Ten subreddits with the Highest Median Comment Counts')\n",
    "plt.ylabel('Median Score')"
   ]
  },
  {
   "cell_type": "markdown",
   "metadata": {
    "heading_collapsed": true
   },
   "source": [
    "## Highest Mean Comment Count by Posting Hour (Times are in UTC)"
   ]
  },
  {
   "cell_type": "code",
   "execution_count": 292,
   "metadata": {
    "ExecuteTime": {
     "end_time": "2017-11-03T09:42:50.771599Z",
     "start_time": "2017-11-03T09:42:49.623005Z"
    },
    "hidden": true
   },
   "outputs": [
    {
     "data": {
      "text/plain": [
       "Text(0.5,0,'Post Time (UTC)')"
      ]
     },
     "execution_count": 292,
     "metadata": {},
     "output_type": "execute_result"
    },
    {
     "data": {
      "image/png": "[encoded data removed]",
      "text/plain": [
       "<matplotlib.figure.Figure at 0x1310e75c0>"
      ]
     },
     "metadata": {},
     "output_type": "display_data"
    }
   ],
   "source": [
    "fig, ax = plt.subplots()\n",
    "fig.set_size_inches(14, 14)\n",
    "\n",
    "order = (dataunique.groupby('post_time_hours')['comments'].apply(np.mean).sort_values(ascending = False)[:30].index)\n",
    "sns.barplot(x='post_time_hours', y='comments', data=dataunique, order=order, ci=0)\n",
    "plt.title('Highest Mean Comment Count by Posting Hour (Times are in UTC)')\n",
    "plt.ylabel('Mean Number of Comments')\n",
    "plt.xlabel('Post Time (UTC)')"
   ]
  },
  {
   "cell_type": "code",
   "execution_count": 290,
   "metadata": {
    "ExecuteTime": {
     "end_time": "2017-11-03T09:40:32.106291Z",
     "start_time": "2017-11-03T09:40:30.964261Z"
    },
    "hidden": true
   },
   "outputs": [
    {
     "data": {
      "text/plain": [
       "Text(0.5,0,'Post Time (UTC)')"
      ]
     },
     "execution_count": 290,
     "metadata": {},
     "output_type": "execute_result"
    },
    {
     "data": {
      "image/png": "[encoded data removed]",
      "text/plain": [
       "<matplotlib.figure.Figure at 0x129d2d0f0>"
      ]
     },
     "metadata": {},
     "output_type": "display_data"
    }
   ],
   "source": [
    "fig, ax = plt.subplots()\n",
    "fig.set_size_inches(14, 14)\n",
    "\n",
    "order = (dataunique.groupby('post_time_hours')['comments'].apply(np.median).sort_values(ascending = False)[:30].index)\n",
    "sns.barplot(x='post_time_hours', y='comments', data=dataunique, order=order, ci=0)\n",
    "plt.title('Highest Median Comment Count by Posting Hour (Times are in UTC)')\n",
    "plt.ylabel('Mean Number of Comments')\n",
    "plt.xlabel('Post Time (UTC)')"
   ]
  },
  {
   "cell_type": "markdown",
   "metadata": {
    "heading_collapsed": true
   },
   "source": [
    "## Mean Number of Comments by Day of the Week"
   ]
  },
  {
   "cell_type": "code",
   "execution_count": 276,
   "metadata": {
    "ExecuteTime": {
     "end_time": "2017-11-03T09:33:58.442274Z",
     "start_time": "2017-11-03T09:33:57.932082Z"
    },
    "hidden": true
   },
   "outputs": [
    {
     "data": {
      "text/plain": [
       "Text(0.5,0,'Day of the Week')"
      ]
     },
     "execution_count": 276,
     "metadata": {},
     "output_type": "execute_result"
    },
    {
     "data": {
      "image/png": "[encoded data removed]",
      "text/plain": [
       "<matplotlib.figure.Figure at 0x115e8abe0>"
      ]
     },
     "metadata": {},
     "output_type": "display_data"
    }
   ],
   "source": [
    "fig, ax = plt.subplots()\n",
    "fig.set_size_inches(12, 12)\n",
    "\n",
    "order = (dataunique.groupby('post_day_of_week')['comments'].apply(np.mean).sort_values(ascending = False)[:30].index)\n",
    "sns.barplot(x='post_day_of_week', y='comments', data=dataunique, order=order, ci=0)\n",
    "plt.title('Mean Number of Comments by Day of the Week')\n",
    "plt.ylabel('Mean Number of Comments')\n",
    "plt.xlabel('Day of the Week')\n",
    "\n",
    "#Definitely somewhat misleading as I only really started scraping on Monday evening."
   ]
  },
  {
   "cell_type": "markdown",
   "metadata": {
    "heading_collapsed": true
   },
   "source": [
    "## Median Comment Count by Day of Week"
   ]
  },
  {
   "cell_type": "code",
   "execution_count": 293,
   "metadata": {
    "ExecuteTime": {
     "end_time": "2017-11-03T09:43:52.563303Z",
     "start_time": "2017-11-03T09:43:51.974362Z"
    },
    "hidden": true
   },
   "outputs": [
    {
     "data": {
      "text/plain": [
       "Text(0.5,0,'Day of the Week')"
      ]
     },
     "execution_count": 293,
     "metadata": {},
     "output_type": "execute_result"
    },
    {
     "data": {
      "image/png": "[encoded data removed]",
      "text/plain": [
       "<matplotlib.figure.Figure at 0x13532cbe0>"
      ]
     },
     "metadata": {},
     "output_type": "display_data"
    }
   ],
   "source": [
    "fig, ax = plt.subplots()\n",
    "fig.set_size_inches(12, 12)\n",
    "\n",
    "order = (dataunique.groupby('post_day_of_week')['comments'].apply(np.median).sort_values(ascending = False)[:10].index)\n",
    "\n",
    "sns.barplot(x='post_day_of_week', y='comments', data=dataunique, order=order, ci=0)\n",
    "# plt.xticks(rotation=35)\n",
    "plt.title('Highest Median Comment Counts by Day of the Week')\n",
    "plt.ylabel('Median Score')\n",
    "plt.xlabel('Day of the Week')"
   ]
  },
  {
   "cell_type": "markdown",
   "metadata": {
    "heading_collapsed": true
   },
   "source": [
    "## Mean Comment Score by Day of the Week"
   ]
  },
  {
   "cell_type": "code",
   "execution_count": 278,
   "metadata": {
    "ExecuteTime": {
     "end_time": "2017-11-03T09:34:21.780791Z",
     "start_time": "2017-11-03T09:34:21.260733Z"
    },
    "hidden": true
   },
   "outputs": [
    {
     "data": {
      "text/plain": [
       "Text(0.5,0,'Day of the Week')"
      ]
     },
     "execution_count": 278,
     "metadata": {},
     "output_type": "execute_result"
    },
    {
     "data": {
      "image/png": "[encoded data removed]",
      "text/plain": [
       "<matplotlib.figure.Figure at 0x1373fab70>"
      ]
     },
     "metadata": {},
     "output_type": "display_data"
    }
   ],
   "source": [
    "fig, ax = plt.subplots()\n",
    "fig.set_size_inches(12, 12)\n",
    "\n",
    "order = (dataunique.groupby('post_day_of_week')['score'].apply(np.mean).sort_values(ascending = False)[:30].index)\n",
    "sns.barplot(x='post_day_of_week', y='score', data=dataunique, order=order, ci=0)\n",
    "plt.title('Mean Comment Score by Day of the Week')\n",
    "plt.ylabel('Number of Comments')\n",
    "plt.xlabel('Day of the Week')\n",
    "\n",
    "#Definitely somewhat misleading as I only really started scraping on Monday evening."
   ]
  },
  {
   "cell_type": "markdown",
   "metadata": {
    "heading_collapsed": true
   },
   "source": [
    "## Median Comment Score by Day of Week"
   ]
  },
  {
   "cell_type": "code",
   "execution_count": 289,
   "metadata": {
    "ExecuteTime": {
     "end_time": "2017-11-03T09:39:37.494201Z",
     "start_time": "2017-11-03T09:39:36.882836Z"
    },
    "hidden": true
   },
   "outputs": [
    {
     "data": {
      "text/plain": [
       "Text(0,0.5,'Median Score')"
      ]
     },
     "execution_count": 289,
     "metadata": {},
     "output_type": "execute_result"
    },
    {
     "data": {
      "image/png": "[encoded data removed]",
      "text/plain": [
       "<matplotlib.figure.Figure at 0x12c3f5128>"
      ]
     },
     "metadata": {},
     "output_type": "display_data"
    }
   ],
   "source": [
    "fig, ax = plt.subplots()\n",
    "fig.set_size_inches(12, 12)\n",
    "\n",
    "order = (dataunique.groupby('post_day_of_week')['score'].apply(np.median).sort_values(ascending = False)[:10].index)\n",
    "\n",
    "sns.barplot(x='post_day_of_week', y='score', data=dataunique, order=order, ci=0)\n",
    "# plt.xticks(rotation=35)\n",
    "plt.title('Median Comment Score By Day of The Week')\n",
    "plt.ylabel('Median Score')"
   ]
  },
  {
   "cell_type": "markdown",
   "metadata": {
    "heading_collapsed": true
   },
   "source": [
    "# Modeling whether which percentile Post Number of Comments falls into is a function of the Subreddit"
   ]
  },
  {
   "cell_type": "markdown",
   "metadata": {
    "hidden": true
   },
   "source": [
    "## Against Median Value"
   ]
  },
  {
   "cell_type": "code",
   "execution_count": 53,
   "metadata": {
    "ExecuteTime": {
     "end_time": "2017-11-03T02:50:46.694699Z",
     "start_time": "2017-11-03T02:50:46.616929Z"
    },
    "hidden": true
   },
   "outputs": [],
   "source": [
    "from sklearn.model_selection import train_test_split\n",
    "\n",
    "datauniquenum1 = pd.get_dummies(datauniquenum1)\n",
    "\n",
    "medX_train, medX_test, medy_train, medy_test = train_test_split(datauniquenum1.iloc[:,13:], datauniquenum1['Comments_Median'], random_state=0)\n",
    "\n",
    "# NOTE: datauniquenum1[:,13:] represents the dummified subreddits"
   ]
  },
  {
   "cell_type": "markdown",
   "metadata": {
    "hidden": true
   },
   "source": [
    "### Random Forest"
   ]
  },
  {
   "cell_type": "code",
   "execution_count": 54,
   "metadata": {
    "ExecuteTime": {
     "end_time": "2017-11-03T02:50:53.864697Z",
     "start_time": "2017-11-03T02:50:51.517541Z"
    },
    "hidden": true
   },
   "outputs": [
    {
     "name": "stdout",
     "output_type": "stream",
     "text": [
      "Random Forest (Training) Score:\t0.602 ± 0.026\n",
      "Random Forest Accuracy: 0.607\n"
     ]
    }
   ],
   "source": [
    "from sklearn import preprocessing\n",
    "from sklearn import tree\n",
    "from sklearn.tree import DecisionTreeClassifier\n",
    "from sklearn.ensemble import RandomForestClassifier, ExtraTreesClassifier, BaggingClassifier\n",
    "from sklearn.model_selection import train_test_split\n",
    "from sklearn.metrics import accuracy_score\n",
    "from sklearn.cross_validation import cross_val_score, StratifiedKFold\n",
    "\n",
    "c = RandomForestClassifier(max_features=1)\n",
    "d = cross_val_score(c, medX_train, medy_train, cv=3, n_jobs=-1)\n",
    "print(\"{} Score:\\t{:0.3} ± {:0.3}\".format(\"Random Forest (Training)\", d.mean().round(3), d.std().round(3)))\n",
    "c.fit(medX_train, medy_train)\n",
    "print(\"Random Forest Accuracy: %0.3f\" % c.score(medX_test, medy_test))"
   ]
  },
  {
   "cell_type": "markdown",
   "metadata": {
    "hidden": true
   },
   "source": [
    "### Decision Tree"
   ]
  },
  {
   "cell_type": "code",
   "execution_count": 215,
   "metadata": {
    "ExecuteTime": {
     "end_time": "2017-11-03T07:43:43.675678Z",
     "start_time": "2017-11-03T07:43:41.227385Z"
    },
    "hidden": true
   },
   "outputs": [
    {
     "name": "stdout",
     "output_type": "stream",
     "text": [
      "Random Forest (Training) Score:\t0.606 ± 0.01\n",
      "Random Forest Accuracy: 0.607\n"
     ]
    }
   ],
   "source": [
    "from sklearn import preprocessing\n",
    "from sklearn.tree import DecisionTreeClassifier\n",
    "from sklearn.metrics import accuracy_score\n",
    "from sklearn.cross_validation import cross_val_score\n",
    "\n",
    "c = DecisionTreeClassifier(max_depth=30)\n",
    "d = cross_val_score(c, medX_train, medy_train, cv=5, n_jobs=-1)\n",
    "print(\"{} Score:\\t{:0.3} ± {:0.3}\".format(\"Random Forest (Training)\", d.mean().round(3), d.std().round(3)))\n",
    "c.fit(medX_train, medy_train)\n",
    "print(\"Random Forest Accuracy: %0.3f\" % c.score(medX_test, medy_test))"
   ]
  },
  {
   "cell_type": "markdown",
   "metadata": {
    "hidden": true
   },
   "source": [
    "### Logistic Regression"
   ]
  },
  {
   "cell_type": "code",
   "execution_count": 209,
   "metadata": {
    "ExecuteTime": {
     "end_time": "2017-11-03T07:40:20.579599Z",
     "start_time": "2017-11-03T07:40:20.381512Z"
    },
    "hidden": true
   },
   "outputs": [
    {
     "name": "stdout",
     "output_type": "stream",
     "text": [
      "[[  61  504]\n",
      " [  46 1726]]\n",
      "             precision    recall  f1-score   support\n",
      "\n",
      "          0       0.57      0.11      0.18       565\n",
      "          1       0.77      0.97      0.86      1772\n",
      "\n",
      "avg / total       0.72      0.76      0.70      2337\n",
      "\n",
      "Accuracy of logistic regression classifier on test set: 0.76\n"
     ]
    }
   ],
   "source": [
    "from sklearn.linear_model import LogisticRegression\n",
    "from sklearn.cross_validation import train_test_split\n",
    "from sklearn import metrics\n",
    "from sklearn.metrics import confusion_matrix\n",
    "from sklearn.metrics import classification_report\n",
    "\n",
    "datauniquenum1 = pd.get_dummies(datauniquenum1)\n",
    "X_train, X_test, y_train, y_test = train_test_split(datauniquenum1.iloc[:,13:], datauniquenum1['Comments_25th_percentile'], test_size=0.3, random_state=0)\n",
    "\n",
    "classifier = LogisticRegression()\n",
    "classifier.fit(X_train,y_train)\n",
    "y_pred = classifier.predict(X_test)\n",
    " \n",
    "confusion_matrix = confusion_matrix(y_test,y_pred)\n",
    "print(confusion_matrix)\n",
    "print(classification_report(y_test,y_pred))\n",
    "print('Accuracy of logistic regression classifier on test set: {:.2f}'.format(classifier.score(X_test, y_test)))"
   ]
  },
  {
   "cell_type": "markdown",
   "metadata": {
    "heading_collapsed": true,
    "hidden": true
   },
   "source": [
    "## Against 25th Percentile"
   ]
  },
  {
   "cell_type": "code",
   "execution_count": 55,
   "metadata": {
    "ExecuteTime": {
     "end_time": "2017-11-03T02:51:23.429423Z",
     "start_time": "2017-11-03T02:51:23.356223Z"
    },
    "hidden": true
   },
   "outputs": [],
   "source": [
    "from sklearn.model_selection import train_test_split\n",
    "\n",
    "datauniquenum1 = pd.get_dummies(datauniquenum1)\n",
    "\n",
    "_25X_train, _25X_test, _25y_train, _25y_test = train_test_split(datauniquenum1.iloc[:,13:], datauniquenum1['Comments_25th_percentile'], test_size=0.3, random_state=0)"
   ]
  },
  {
   "cell_type": "markdown",
   "metadata": {
    "hidden": true
   },
   "source": [
    "### Random Forest"
   ]
  },
  {
   "cell_type": "code",
   "execution_count": 60,
   "metadata": {
    "ExecuteTime": {
     "end_time": "2017-11-03T02:52:24.480661Z",
     "start_time": "2017-11-03T02:52:23.779653Z"
    },
    "hidden": true
   },
   "outputs": [
    {
     "name": "stdout",
     "output_type": "stream",
     "text": [
      "Random Forest (Training) Score:\t0.754 ± 0.001\n",
      "Random Forest Accuracy: 0.758\n"
     ]
    }
   ],
   "source": [
    "from sklearn import preprocessing\n",
    "from sklearn import tree\n",
    "from sklearn.tree import DecisionTreeClassifier\n",
    "from sklearn.ensemble import RandomForestClassifier, ExtraTreesClassifier, BaggingClassifier\n",
    "from sklearn.model_selection import train_test_split\n",
    "from sklearn.metrics import accuracy_score\n",
    "from sklearn.cross_validation import cross_val_score, StratifiedKFold\n",
    "\n",
    "c = RandomForestClassifier(max_depth=10)\n",
    "d = cross_val_score(c, _25X_train, _25y_train, cv=5, n_jobs=-1)\n",
    "print(\"{} Score:\\t{:0.3} ± {:0.3}\".format(\"Random Forest (Training)\", d.mean().round(3), d.std().round(3)))\n",
    "c.fit(_25X_train, _25y_train)\n",
    "print(\"Random Forest Accuracy: %0.3f\" % c.score(_25X_test, _25y_test))"
   ]
  },
  {
   "cell_type": "markdown",
   "metadata": {
    "hidden": true
   },
   "source": [
    "### Decision Tree"
   ]
  },
  {
   "cell_type": "code",
   "execution_count": 214,
   "metadata": {
    "ExecuteTime": {
     "end_time": "2017-11-03T07:43:08.126889Z",
     "start_time": "2017-11-03T07:43:05.648464Z"
    },
    "hidden": true
   },
   "outputs": [
    {
     "name": "stdout",
     "output_type": "stream",
     "text": [
      "Random Forest (Training) Score:\t0.761 ± 0.005\n",
      "Random Forest Accuracy: 0.760\n"
     ]
    }
   ],
   "source": [
    "from sklearn import preprocessing\n",
    "from sklearn.tree import DecisionTreeClassifier\n",
    "from sklearn.metrics import accuracy_score\n",
    "from sklearn.cross_validation import cross_val_score\n",
    "\n",
    "c = DecisionTreeClassifier(max_depth=30)\n",
    "d = cross_val_score(c, _25X_train, _25y_train, cv=5, n_jobs=-1)\n",
    "print(\"{} Score:\\t{:0.3} ± {:0.3}\".format(\"Random Forest (Training)\", d.mean().round(3), d.std().round(3)))\n",
    "c.fit(_25X_train, _25y_train)\n",
    "print(\"Random Forest Accuracy: %0.3f\" % c.score(_25X_test, _25y_test))"
   ]
  },
  {
   "cell_type": "markdown",
   "metadata": {
    "hidden": true
   },
   "source": [
    "### Logistic Regression"
   ]
  },
  {
   "cell_type": "code",
   "execution_count": 208,
   "metadata": {
    "ExecuteTime": {
     "end_time": "2017-11-03T07:40:05.886902Z",
     "start_time": "2017-11-03T07:40:05.640749Z"
    },
    "hidden": true
   },
   "outputs": [
    {
     "name": "stdout",
     "output_type": "stream",
     "text": [
      "[[  61  504]\n",
      " [  46 1726]]\n",
      "             precision    recall  f1-score   support\n",
      "\n",
      "          0       0.57      0.11      0.18       565\n",
      "          1       0.77      0.97      0.86      1772\n",
      "\n",
      "avg / total       0.72      0.76      0.70      2337\n",
      "\n",
      "Accuracy of logistic regression classifier on test set: 0.76\n"
     ]
    }
   ],
   "source": [
    "from sklearn.linear_model import LogisticRegression\n",
    "from sklearn.cross_validation import train_test_split\n",
    "from sklearn import metrics\n",
    "from sklearn.metrics import confusion_matrix\n",
    "from sklearn.metrics import classification_report\n",
    "\n",
    "datauniquenum1 = pd.get_dummies(datauniquenum1)\n",
    "X_train, X_test, y_train, y_test = train_test_split(datauniquenum1.iloc[:,13:], datauniquenum1['Comments_25th_percentile'], test_size=0.3, random_state=0)\n",
    "\n",
    "classifier = LogisticRegression()\n",
    "classifier.fit(X_train,y_train)\n",
    "y_pred = classifier.predict(X_test)\n",
    " \n",
    "confusion_matrix = confusion_matrix(y_test,y_pred)\n",
    "print(confusion_matrix)\n",
    "print(classification_report(y_test,y_pred))\n",
    "print('Accuracy of logistic regression classifier on test set: {:.2f}'.format(classifier.score(X_test, y_test)))"
   ]
  },
  {
   "cell_type": "markdown",
   "metadata": {
    "hidden": true
   },
   "source": [
    "## Against 75th Percentile"
   ]
  },
  {
   "cell_type": "code",
   "execution_count": 66,
   "metadata": {
    "ExecuteTime": {
     "end_time": "2017-11-03T02:54:38.307937Z",
     "start_time": "2017-11-03T02:54:38.244681Z"
    },
    "hidden": true
   },
   "outputs": [],
   "source": [
    "from sklearn.model_selection import train_test_split\n",
    "_75X_train, _75X_test, _75y_train, _75y_test = train_test_split(datauniquenum1.iloc[:,13:], dataunique['Comments_75th_percentile'], test_size=0.3, random_state=0)"
   ]
  },
  {
   "cell_type": "markdown",
   "metadata": {
    "hidden": true
   },
   "source": [
    "### Random Forest"
   ]
  },
  {
   "cell_type": "code",
   "execution_count": 67,
   "metadata": {
    "ExecuteTime": {
     "end_time": "2017-11-03T02:54:43.543909Z",
     "start_time": "2017-11-03T02:54:43.001774Z"
    },
    "hidden": true
   },
   "outputs": [
    {
     "name": "stdout",
     "output_type": "stream",
     "text": [
      "Random Forest (Training) Score:\t0.744 ± 0.0\n",
      "Random Forest Accuracy: 0.745\n"
     ]
    }
   ],
   "source": [
    "from sklearn import preprocessing\n",
    "from sklearn.ensemble import RandomForestClassifier\n",
    "from sklearn.metrics import accuracy_score\n",
    "from sklearn.cross_validation import cross_val_score\n",
    "\n",
    "c = RandomForestClassifier(max_depth=3)\n",
    "d = cross_val_score(c, _75X_train, _75y_train, cv=5, n_jobs=-1)\n",
    "print(\"{} Score:\\t{:0.3} ± {:0.3}\".format(\"Random Forest (Training)\", d.mean().round(3), d.std().round(3)))\n",
    "c.fit(_75X_train, _75y_train)\n",
    "print(\"Random Forest Accuracy: %0.3f\" % c.score(_75X_test, _75y_test))"
   ]
  },
  {
   "cell_type": "markdown",
   "metadata": {
    "hidden": true
   },
   "source": [
    "### Decision Tree"
   ]
  },
  {
   "cell_type": "code",
   "execution_count": 213,
   "metadata": {
    "ExecuteTime": {
     "end_time": "2017-11-03T07:42:33.187075Z",
     "start_time": "2017-11-03T07:42:30.993519Z"
    },
    "hidden": true
   },
   "outputs": [
    {
     "name": "stdout",
     "output_type": "stream",
     "text": [
      "Random Forest (Training) Score:\t0.755 ± 0.005\n",
      "Random Forest Accuracy: 0.752\n"
     ]
    }
   ],
   "source": [
    "from sklearn import preprocessing\n",
    "from sklearn.tree import DecisionTreeClassifier\n",
    "from sklearn.metrics import accuracy_score\n",
    "from sklearn.cross_validation import cross_val_score\n",
    "\n",
    "c = DecisionTreeClassifier(max_depth=30)\n",
    "d = cross_val_score(c, _75X_train, _75y_train, cv=5, n_jobs=-1)\n",
    "print(\"{} Score:\\t{:0.3} ± {:0.3}\".format(\"Random Forest (Training)\", d.mean().round(3), d.std().round(3)))\n",
    "c.fit(_75X_train, _75y_train)\n",
    "print(\"Random Forest Accuracy: %0.3f\" % c.score(_75X_test, _75y_test))"
   ]
  },
  {
   "cell_type": "markdown",
   "metadata": {
    "hidden": true
   },
   "source": [
    "### Logistic Regression"
   ]
  },
  {
   "cell_type": "code",
   "execution_count": 207,
   "metadata": {
    "ExecuteTime": {
     "end_time": "2017-11-03T07:39:51.504607Z",
     "start_time": "2017-11-03T07:39:51.274508Z"
    },
    "hidden": true
   },
   "outputs": [
    {
     "name": "stdout",
     "output_type": "stream",
     "text": [
      "[[1650   92]\n",
      " [ 459  136]]\n",
      "             precision    recall  f1-score   support\n",
      "\n",
      "          0       0.78      0.95      0.86      1742\n",
      "          1       0.60      0.23      0.33       595\n",
      "\n",
      "avg / total       0.74      0.76      0.72      2337\n",
      "\n",
      "Accuracy of logistic regression classifier on test set: 0.76\n"
     ]
    }
   ],
   "source": [
    "from sklearn.linear_model import LogisticRegression\n",
    "from sklearn.cross_validation import train_test_split\n",
    "from sklearn import metrics\n",
    "from sklearn.metrics import confusion_matrix\n",
    "from sklearn.metrics import classification_report\n",
    "\n",
    "datauniquenum1 = pd.get_dummies(datauniquenum1)\n",
    "X_train, X_test, y_train, y_test = train_test_split(datauniquenum1.iloc[:,13:], datauniquenum1['Comments_75th_percentile'], test_size=0.3, random_state=0)\n",
    "\n",
    "classifier = LogisticRegression()\n",
    "classifier.fit(X_train,y_train)\n",
    "y_pred = classifier.predict(X_test)\n",
    " \n",
    "confusion_matrix = confusion_matrix(y_test,y_pred)\n",
    "print(confusion_matrix)\n",
    "print(classification_report(y_test,y_pred))\n",
    "print('Accuracy of logistic regression classifier on test set: {:.2f}'.format(classifier.score(X_test, y_test)))"
   ]
  },
  {
   "cell_type": "markdown",
   "metadata": {
    "hidden": true
   },
   "source": [
    "## Against 95th Percentile"
   ]
  },
  {
   "cell_type": "code",
   "execution_count": 70,
   "metadata": {
    "ExecuteTime": {
     "end_time": "2017-11-03T02:55:39.142684Z",
     "start_time": "2017-11-03T02:55:39.089254Z"
    },
    "hidden": true
   },
   "outputs": [],
   "source": [
    "from sklearn.model_selection import train_test_split\n",
    "_95X_train, _95X_test, _95y_train, _95y_test = train_test_split(datauniquenum1.iloc[:,13:], dataunique['Comments_95th_percentile'], test_size=0.3, random_state=0)"
   ]
  },
  {
   "cell_type": "markdown",
   "metadata": {
    "hidden": true
   },
   "source": [
    "### Random Forest"
   ]
  },
  {
   "cell_type": "code",
   "execution_count": 71,
   "metadata": {
    "ExecuteTime": {
     "end_time": "2017-11-03T02:55:44.338265Z",
     "start_time": "2017-11-03T02:55:43.794618Z"
    },
    "hidden": true
   },
   "outputs": [
    {
     "name": "stdout",
     "output_type": "stream",
     "text": [
      "Random Forest (Training) Score:\t0.948 ± 0.0\n",
      "Random Forest Accuracy: 0.953\n"
     ]
    }
   ],
   "source": [
    "from sklearn import preprocessing\n",
    "from sklearn.ensemble import RandomForestClassifier\n",
    "from sklearn.metrics import accuracy_score\n",
    "from sklearn.cross_validation import cross_val_score\n",
    "\n",
    "c = RandomForestClassifier(max_depth=3)\n",
    "d = cross_val_score(c, _95X_train, _95y_train, cv=5, n_jobs=-1)\n",
    "print(\"{} Score:\\t{:0.3} ± {:0.3}\".format(\"Random Forest (Training)\", d.mean().round(3), d.std().round(3)))\n",
    "c.fit(_95X_train, _95y_train)\n",
    "print(\"Random Forest Accuracy: %0.3f\" % c.score(_95X_test, _95y_test))"
   ]
  },
  {
   "cell_type": "markdown",
   "metadata": {
    "hidden": true
   },
   "source": [
    "### Decision Tree"
   ]
  },
  {
   "cell_type": "code",
   "execution_count": 212,
   "metadata": {
    "ExecuteTime": {
     "end_time": "2017-11-03T07:41:59.485488Z",
     "start_time": "2017-11-03T07:41:57.427287Z"
    },
    "hidden": true
   },
   "outputs": [
    {
     "name": "stdout",
     "output_type": "stream",
     "text": [
      "Random Forest (Training) Score:\t0.944 ± 0.002\n",
      "Random Forest Accuracy: 0.947\n"
     ]
    }
   ],
   "source": [
    "from sklearn import preprocessing\n",
    "from sklearn.tree import DecisionTreeClassifier\n",
    "from sklearn.metrics import accuracy_score\n",
    "from sklearn.cross_validation import cross_val_score\n",
    "\n",
    "c = DecisionTreeClassifier(max_depth=30)\n",
    "d = cross_val_score(c, _95X_train, _95y_train, cv=5, n_jobs=-1)\n",
    "print(\"{} Score:\\t{:0.3} ± {:0.3}\".format(\"Random Forest (Training)\", d.mean().round(3), d.std().round(3)))\n",
    "c.fit(_95X_train, _95y_train)\n",
    "print(\"Random Forest Accuracy: %0.3f\" % c.score(_95X_test, _95y_test))"
   ]
  },
  {
   "cell_type": "markdown",
   "metadata": {
    "hidden": true
   },
   "source": [
    "### Logistic Regression"
   ]
  },
  {
   "cell_type": "code",
   "execution_count": 234,
   "metadata": {
    "ExecuteTime": {
     "end_time": "2017-11-03T08:13:43.842146Z",
     "start_time": "2017-11-03T08:13:43.613362Z"
    },
    "hidden": true
   },
   "outputs": [
    {
     "name": "stdout",
     "output_type": "stream",
     "text": [
      "[[2226    0]\n",
      " [ 111    0]]\n",
      "             precision    recall  f1-score   support\n",
      "\n",
      "          0       0.95      1.00      0.98      2226\n",
      "          1       0.00      0.00      0.00       111\n",
      "\n",
      "avg / total       0.91      0.95      0.93      2337\n",
      "\n",
      "Accuracy of logistic regression classifier on test set: 0.95\n"
     ]
    },
    {
     "name": "stderr",
     "output_type": "stream",
     "text": [
      "/Users/skiparay/miniconda3/lib/python3.6/site-packages/sklearn/metrics/classification.py:1135: UndefinedMetricWarning: Precision and F-score are ill-defined and being set to 0.0 in labels with no predicted samples.\n",
      "  'precision', 'predicted', average, warn_for)\n"
     ]
    }
   ],
   "source": [
    "from sklearn.linear_model import LogisticRegression\n",
    "from sklearn.cross_validation import train_test_split\n",
    "from sklearn import metrics\n",
    "from sklearn.metrics import confusion_matrix\n",
    "from sklearn.metrics import classification_report\n",
    "\n",
    "datauniquenum1 = pd.get_dummies(datauniquenum1)\n",
    "X_train, X_test, y_train, y_test = train_test_split(datauniquenum1.iloc[:,13:], datauniquenum1['Comments_95th_percentile'], test_size=0.3, random_state=0)\n",
    "\n",
    "classifier = LogisticRegression()\n",
    "classifier.fit(X_train,y_train)\n",
    "y_pred = classifier.predict(X_test)\n",
    " \n",
    "confusion_matrix = confusion_matrix(y_test,y_pred)\n",
    "print(confusion_matrix)\n",
    "print(classification_report(y_test,y_pred))\n",
    "print('Accuracy of logistic regression classifier on test set: {:.2f}'.format(classifier.score(X_test, y_test)))"
   ]
  },
  {
   "cell_type": "markdown",
   "metadata": {
    "heading_collapsed": true
   },
   "source": [
    "# Modeling whether which percentile Post Score falls into is a function of Subreddit"
   ]
  },
  {
   "cell_type": "markdown",
   "metadata": {
    "heading_collapsed": true,
    "hidden": true
   },
   "source": [
    "## Against Median Value"
   ]
  },
  {
   "cell_type": "code",
   "execution_count": 72,
   "metadata": {
    "ExecuteTime": {
     "end_time": "2017-11-03T02:57:09.785577Z",
     "start_time": "2017-11-03T02:57:09.730938Z"
    },
    "hidden": true
   },
   "outputs": [],
   "source": [
    "from sklearn.model_selection import train_test_split\n",
    "scX_train, scX_test, scy_train, scy_test = train_test_split(datauniquenum1.iloc[:,13:], datauniquenum1['Score_Median'], test_size=0.3, random_state=0)"
   ]
  },
  {
   "cell_type": "markdown",
   "metadata": {
    "hidden": true
   },
   "source": [
    "### Random Forest"
   ]
  },
  {
   "cell_type": "code",
   "execution_count": 73,
   "metadata": {
    "ExecuteTime": {
     "end_time": "2017-11-03T02:57:16.760355Z",
     "start_time": "2017-11-03T02:57:16.214077Z"
    },
    "hidden": true
   },
   "outputs": [
    {
     "name": "stdout",
     "output_type": "stream",
     "text": [
      "Random Forest (Training) Score:\t0.601 ± 0.015\n",
      "Random Forest Accuracy: 0.627\n"
     ]
    }
   ],
   "source": [
    "from sklearn import preprocessing\n",
    "from sklearn.ensemble import RandomForestClassifier\n",
    "from sklearn.metrics import accuracy_score\n",
    "from sklearn.cross_validation import cross_val_score\n",
    "\n",
    "c = RandomForestClassifier(max_depth=3)\n",
    "d = cross_val_score(c, scX_train, scy_train, cv=5, n_jobs=-1)\n",
    "print(\"{} Score:\\t{:0.3} ± {:0.3}\".format(\"Random Forest (Training)\", d.mean().round(3), d.std().round(3)))\n",
    "c.fit(scX_train, scy_train)\n",
    "print(\"Random Forest Accuracy: %0.3f\" % c.score(scX_test, scy_test))"
   ]
  },
  {
   "cell_type": "markdown",
   "metadata": {
    "hidden": true
   },
   "source": [
    "### Decision Tree"
   ]
  },
  {
   "cell_type": "code",
   "execution_count": 216,
   "metadata": {
    "ExecuteTime": {
     "end_time": "2017-11-03T07:44:44.632581Z",
     "start_time": "2017-11-03T07:44:42.409966Z"
    },
    "hidden": true
   },
   "outputs": [
    {
     "name": "stdout",
     "output_type": "stream",
     "text": [
      "Random Forest (Training) Score:\t0.61 ± 0.012\n",
      "Random Forest Accuracy: 0.753\n"
     ]
    }
   ],
   "source": [
    "from sklearn import preprocessing\n",
    "from sklearn.tree import DecisionTreeClassifier\n",
    "from sklearn.metrics import accuracy_score\n",
    "from sklearn.cross_validation im port cross_val_score\n",
    "\n",
    "c = DecisionTreeClassifier(max_depth=30)\n",
    "d = cross_val_score(c, scX_train, scy_train, cv=5, n_jobs=-1)\n",
    "print(\"{} Score:\\t{:0.3} ± {:0.3}\".format(\"Random Forest (Training)\", d.mean().round(3), d.std().round(3)))\n",
    "c.fit(scX_train, scy_train)\n",
    "print(\"Random Forest Accuracy: %0.3f\" % c.score(_95X_test, _95y_test))"
   ]
  },
  {
   "cell_type": "markdown",
   "metadata": {
    "hidden": true
   },
   "source": [
    "### Logistic Regression"
   ]
  },
  {
   "cell_type": "code",
   "execution_count": 205,
   "metadata": {
    "ExecuteTime": {
     "end_time": "2017-11-03T07:39:06.141320Z",
     "start_time": "2017-11-03T07:39:05.928882Z"
    },
    "hidden": true
   },
   "outputs": [
    {
     "name": "stdout",
     "output_type": "stream",
     "text": [
      "[[1693   81]\n",
      " [ 417  146]]\n",
      "             precision    recall  f1-score   support\n",
      "\n",
      "          0       0.80      0.95      0.87      1774\n",
      "          1       0.64      0.26      0.37       563\n",
      "\n",
      "avg / total       0.76      0.79      0.75      2337\n",
      "\n",
      "Accuracy of logistic regression classifier on test set: 0.79\n"
     ]
    }
   ],
   "source": [
    "from sklearn.linear_model import LogisticRegression\n",
    "from sklearn.cross_validation import train_test_split\n",
    "from sklearn import metrics\n",
    "from sklearn.metrics import confusion_matrix\n",
    "from sklearn.metrics import classification_report\n",
    "\n",
    "datauniquenum1 = pd.get_dummies(datauniquenum1)\n",
    "X_train, X_test, y_train, y_test = train_test_split(datauniquenum1.iloc[:,13:], datauniquenum1['Score_75th_percentile'], test_size=0.3, random_state=0)\n",
    "\n",
    "classifier = LogisticRegression()\n",
    "classifier.fit(X_train,y_train)\n",
    "y_pred = classifier.predict(X_test)\n",
    " \n",
    "confusion_matrix = confusion_matrix(y_test,y_pred)\n",
    "print(confusion_matrix)\n",
    "print(classification_report(y_test,y_pred))\n",
    "print('Accuracy of logistic regression classifier on test set: {:.2f}'.format(classifier.score(X_test, y_test)))"
   ]
  },
  {
   "cell_type": "markdown",
   "metadata": {
    "hidden": true
   },
   "source": [
    "## Against 25th Percentile"
   ]
  },
  {
   "cell_type": "code",
   "execution_count": 75,
   "metadata": {
    "ExecuteTime": {
     "end_time": "2017-11-03T02:59:00.515487Z",
     "start_time": "2017-11-03T02:59:00.469264Z"
    },
    "hidden": true
   },
   "outputs": [],
   "source": [
    "from sklearn.model_selection import train_test_split\n",
    "_25scX_train, _25scX_test, _25scy_train, _25scy_test = train_test_split(datauniquenum1.iloc[:,13:], datauniquenum1['Score_25th_percentile'], test_size=0.3, random_state=0)"
   ]
  },
  {
   "cell_type": "markdown",
   "metadata": {
    "hidden": true
   },
   "source": [
    "### Random Forest"
   ]
  },
  {
   "cell_type": "code",
   "execution_count": 76,
   "metadata": {
    "ExecuteTime": {
     "end_time": "2017-11-03T02:59:23.683720Z",
     "start_time": "2017-11-03T02:59:23.127115Z"
    },
    "hidden": true
   },
   "outputs": [
    {
     "name": "stdout",
     "output_type": "stream",
     "text": [
      "Random Forest (Training) Score:\t0.751 ± 0.0\n",
      "Random Forest Accuracy: 0.748\n"
     ]
    }
   ],
   "source": [
    "from sklearn import preprocessing\n",
    "from sklearn.ensemble import RandomForestClassifier\n",
    "from sklearn.metrics import accuracy_score\n",
    "from sklearn.cross_validation import cross_val_score\n",
    "\n",
    "c = RandomForestClassifier(max_depth=3)\n",
    "d = cross_val_score(c, _25scX_train, _25scy_train, cv=5, n_jobs=-1)\n",
    "print(\"{} Score:\\t{:0.3} ± {:0.3}\".format(\"Random Forest (Training)\", d.mean().round(3), d.std().round(3)))\n",
    "c.fit(_25scX_train, _25scy_train)\n",
    "print(\"Random Forest Accuracy: %0.3f\" % c.score(_25scX_test, _25scy_test))"
   ]
  },
  {
   "cell_type": "markdown",
   "metadata": {
    "hidden": true
   },
   "source": [
    "### Decision Tree"
   ]
  },
  {
   "cell_type": "code",
   "execution_count": 222,
   "metadata": {
    "ExecuteTime": {
     "end_time": "2017-11-03T07:55:57.815433Z",
     "start_time": "2017-11-03T07:55:55.786753Z"
    },
    "hidden": true
   },
   "outputs": [
    {
     "name": "stdout",
     "output_type": "stream",
     "text": [
      "Random Forest (Training) Score:\t0.748 ± 0.004\n",
      "Random Forest Accuracy: 0.748\n"
     ]
    }
   ],
   "source": [
    "from sklearn import preprocessing\n",
    "from sklearn.tree import DecisionTreeClassifier\n",
    "from sklearn.metrics import accuracy_score\n",
    "from sklearn.cross_validation import cross_val_score\n",
    "\n",
    "c = DecisionTreeClassifier(max_depth=30)\n",
    "d = cross_val_score(c, _25scX_train, _25scy_train, cv=5, n_jobs=-1)\n",
    "print(\"{} Score:\\t{:0.3} ± {:0.3}\".format(\"Random Forest (Training)\", d.mean().round(3), d.std().round(3)))\n",
    "c.fit(_25scX_train, _25scy_train)\n",
    "print(\"Random Forest Accuracy: %0.3f\" % c.score(_25scX_test, _25scy_test))"
   ]
  },
  {
   "cell_type": "markdown",
   "metadata": {
    "hidden": true
   },
   "source": [
    "### Logistic Regression"
   ]
  },
  {
   "cell_type": "code",
   "execution_count": 204,
   "metadata": {
    "ExecuteTime": {
     "end_time": "2017-11-03T07:38:48.826037Z",
     "start_time": "2017-11-03T07:38:48.598802Z"
    },
    "hidden": true
   },
   "outputs": [
    {
     "name": "stdout",
     "output_type": "stream",
     "text": [
      "[[  60  528]\n",
      " [  52 1697]]\n",
      "             precision    recall  f1-score   support\n",
      "\n",
      "          0       0.54      0.10      0.17       588\n",
      "          1       0.76      0.97      0.85      1749\n",
      "\n",
      "avg / total       0.71      0.75      0.68      2337\n",
      "\n",
      "Accuracy of logistic regression classifier on test set: 0.75\n"
     ]
    }
   ],
   "source": [
    "from sklearn.linear_model import LogisticRegression\n",
    "from sklearn.cross_validation import train_test_split\n",
    "from sklearn import metrics\n",
    "from sklearn.metrics import confusion_matrix\n",
    "from sklearn.metrics import classification_report\n",
    "\n",
    "datauniquenum1 = pd.get_dummies(datauniquenum1)\n",
    "X_train, X_test, y_train, y_test = train_test_split(datauniquenum1.iloc[:,13:], datauniquenum1['Score_25th_percentile'], test_size=0.3, random_state=0)\n",
    "\n",
    "classifier = LogisticRegression()\n",
    "classifier.fit(X_train,y_train)\n",
    "y_pred = classifier.predict(X_test)\n",
    " \n",
    "confusion_matrix = confusion_matrix(y_test,y_pred)\n",
    "print(confusion_matrix)\n",
    "print(classification_report(y_test,y_pred))\n",
    "print('Accuracy of logistic regression classifier on test set: {:.2f}'.format(classifier.score(X_test, y_test)))"
   ]
  },
  {
   "cell_type": "markdown",
   "metadata": {
    "hidden": true
   },
   "source": [
    "## Against 75th Percentile"
   ]
  },
  {
   "cell_type": "code",
   "execution_count": 78,
   "metadata": {
    "ExecuteTime": {
     "end_time": "2017-11-03T03:00:19.023444Z",
     "start_time": "2017-11-03T03:00:18.972757Z"
    },
    "hidden": true,
    "run_control": {
     "marked": false
    }
   },
   "outputs": [],
   "source": [
    "from sklearn.model_selection import train_test_split\n",
    "_75scX_train, _75scX_test, _75scy_train, _75scy_test = train_test_split(datauniquenum1.iloc[:,13:], datauniquenum1['Score_75th_percentile'], test_size=0.3, random_state=0)"
   ]
  },
  {
   "cell_type": "markdown",
   "metadata": {
    "hidden": true
   },
   "source": [
    "### Random Forest"
   ]
  },
  {
   "cell_type": "code",
   "execution_count": 79,
   "metadata": {
    "ExecuteTime": {
     "end_time": "2017-11-03T03:00:46.545484Z",
     "start_time": "2017-11-03T03:00:45.985004Z"
    },
    "hidden": true
   },
   "outputs": [
    {
     "name": "stdout",
     "output_type": "stream",
     "text": [
      "Random Forest (Training) Score:\t0.745 ± 0.0\n",
      "Random Forest Accuracy: 0.759\n"
     ]
    }
   ],
   "source": [
    "from sklearn import preprocessing\n",
    "from sklearn.ensemble import RandomForestClassifier\n",
    "from sklearn.metrics import accuracy_score\n",
    "from sklearn.cross_validation import cross_val_score\n",
    "\n",
    "c = RandomForestClassifier(max_depth=3)\n",
    "d = cross_val_score(c, _75scX_train, _75scy_train, cv=5, n_jobs=-1)\n",
    "print(\"{} Score:\\t{:0.3} ± {:0.3}\".format(\"Random Forest (Training)\", d.mean().round(3), d.std().round(3)))\n",
    "c.fit(_75scX_train, _75scy_train)\n",
    "print(\"Random Forest Accuracy: %0.3f\" % c.score(_75scX_test, _75scy_test))"
   ]
  },
  {
   "cell_type": "markdown",
   "metadata": {
    "hidden": true
   },
   "source": [
    "### Decision Tree"
   ]
  },
  {
   "cell_type": "code",
   "execution_count": 218,
   "metadata": {
    "ExecuteTime": {
     "end_time": "2017-11-03T07:46:00.397099Z",
     "start_time": "2017-11-03T07:45:58.369417Z"
    },
    "hidden": true
   },
   "outputs": [
    {
     "name": "stdout",
     "output_type": "stream",
     "text": [
      "Random Forest (Training) Score:\t0.752 ± 0.002\n",
      "Random Forest Accuracy: 0.764\n"
     ]
    }
   ],
   "source": [
    "from sklearn import preprocessing\n",
    "from sklearn.tree import DecisionTreeClassifier\n",
    "from sklearn.metrics import accuracy_score\n",
    "from sklearn.cross_validation import cross_val_score\n",
    "\n",
    "c = DecisionTreeClassifier(max_depth=30)\n",
    "d = cross_val_score(c, _75scX_train, _75scy_train, cv=5, n_jobs=-1)\n",
    "print(\"{} Score:\\t{:0.3} ± {:0.3}\".format(\"Random Forest (Training)\", d.mean().round(3), d.std().round(3)))\n",
    "c.fit(_75scX_train, _75scy_train)\n",
    "print(\"Random Forest Accuracy: %0.3f\" % c.score(_75scX_test, _75scy_test))"
   ]
  },
  {
   "cell_type": "markdown",
   "metadata": {
    "hidden": true
   },
   "source": [
    "### Logistic Regression"
   ]
  },
  {
   "cell_type": "code",
   "execution_count": 202,
   "metadata": {
    "ExecuteTime": {
     "end_time": "2017-11-03T07:38:15.365152Z",
     "start_time": "2017-11-03T07:38:15.108367Z"
    },
    "hidden": true
   },
   "outputs": [
    {
     "name": "stdout",
     "output_type": "stream",
     "text": [
      "[[1693   81]\n",
      " [ 417  146]]\n",
      "             precision    recall  f1-score   support\n",
      "\n",
      "          0       0.80      0.95      0.87      1774\n",
      "          1       0.64      0.26      0.37       563\n",
      "\n",
      "avg / total       0.76      0.79      0.75      2337\n",
      "\n",
      "Accuracy of logistic regression classifier on test set: 0.79\n"
     ]
    }
   ],
   "source": [
    "from sklearn.linear_model import LogisticRegression\n",
    "from sklearn.cross_validation import train_test_split\n",
    "from sklearn import metrics\n",
    "from sklearn.metrics import confusion_matrix\n",
    "from sklearn.metrics import classification_report\n",
    "\n",
    "datauniquenum1 = pd.get_dummies(datauniquenum1)\n",
    "X_train, X_test, y_train, y_test = train_test_split(datauniquenum1.iloc[:,13:], datauniquenum1['Score_75th_percentile'], test_size=0.3, random_state=0)\n",
    "\n",
    "classifier = LogisticRegression()\n",
    "classifier.fit(X_train,y_train)\n",
    "y_pred = classifier.predict(X_test)\n",
    " \n",
    "confusion_matrix = confusion_matrix(y_test,y_pred)\n",
    "print(confusion_matrix)\n",
    "print(classification_report(y_test,y_pred))\n",
    "print('Accuracy of logistic regression classifier on test set: {:.2f}'.format(classifier.score(X_test, y_test)))"
   ]
  },
  {
   "cell_type": "markdown",
   "metadata": {
    "hidden": true
   },
   "source": [
    "## Against 95th Percentile"
   ]
  },
  {
   "cell_type": "code",
   "execution_count": 80,
   "metadata": {
    "ExecuteTime": {
     "end_time": "2017-11-03T03:01:13.767570Z",
     "start_time": "2017-11-03T03:01:13.718210Z"
    },
    "hidden": true
   },
   "outputs": [],
   "source": [
    "from sklearn.model_selection import train_test_split\n",
    "_95scX_train, _95scX_test, _95scy_train, _95scy_test = train_test_split(datauniquenum1.iloc[:,13:], datauniquenum1['Score_95th_percentile'], test_size=0.3, random_state=0)"
   ]
  },
  {
   "cell_type": "markdown",
   "metadata": {
    "hidden": true
   },
   "source": [
    "### Random Forest"
   ]
  },
  {
   "cell_type": "code",
   "execution_count": 81,
   "metadata": {
    "ExecuteTime": {
     "end_time": "2017-11-03T03:01:37.256395Z",
     "start_time": "2017-11-03T03:01:36.685457Z"
    },
    "hidden": true,
    "scrolled": true
   },
   "outputs": [
    {
     "name": "stdout",
     "output_type": "stream",
     "text": [
      "Random Forest (Training) Score:\t0.949 ± 0.0\n",
      "Random Forest Accuracy: 0.952\n"
     ]
    }
   ],
   "source": [
    "from sklearn import preprocessing\n",
    "from sklearn.ensemble import RandomForestClassifier\n",
    "from sklearn.metrics import accuracy_score\n",
    "from sklearn.cross_validation import cross_val_score\n",
    "\n",
    "c = RandomForestClassifier(max_depth=3)\n",
    "d = cross_val_score(c, _95scX_train, _95scy_train, cv=5, n_jobs=-1)\n",
    "print(\"{} Score:\\t{:0.3} ± {:0.3}\".format(\"Random Forest (Training)\", d.mean().round(3), d.std().round(3)))\n",
    "c.fit(_95scX_train, _95scy_train)\n",
    "print(\"Random Forest Accuracy: %0.3f\" % c.score(_95scX_test, _95scy_test))"
   ]
  },
  {
   "cell_type": "markdown",
   "metadata": {
    "hidden": true
   },
   "source": [
    "### Decision Tree"
   ]
  },
  {
   "cell_type": "code",
   "execution_count": 221,
   "metadata": {
    "ExecuteTime": {
     "end_time": "2017-11-03T07:55:07.192223Z",
     "start_time": "2017-11-03T07:55:06.068568Z"
    },
    "hidden": true
   },
   "outputs": [
    {
     "name": "stderr",
     "output_type": "stream",
     "text": [
      "/Users/skiparay/miniconda3/lib/python3.6/site-packages/sklearn/cross_validation.py:553: Warning: The least populated class in y has only 1 members, which is too few. The minimum number of labels for any class cannot be less than n_folds=3.\n",
      "  % (min_labels, self.n_folds)), Warning)\n"
     ]
    },
    {
     "name": "stdout",
     "output_type": "stream",
     "text": [
      "Random Forest (Training) Score:\t0.014 ± 0.004\n",
      "Random Forest Accuracy: 0.012\n"
     ]
    }
   ],
   "source": [
    "from sklearn import preprocessing\n",
    "from sklearn.tree import DecisionTreeClassifier\n",
    "from sklearn.metrics import accuracy_score\n",
    "from sklearn.cross_validation import cross_val_score\n",
    "\n",
    "c = DecisionTreeClassifier(max_depth=3)\n",
    "d = cross_val_score(c, _95scX_train, _95scy_train, cv=3, n_jobs=-1)\n",
    "print(\"{} Score:\\t{:0.3} ± {:0.3}\".format(\"Random Forest (Training)\", d.mean().round(3), d.std().round(3)))\n",
    "c.fit(_95scX_train, _95scy_train)\n",
    "print(\"Random Forest Accuracy: %0.3f\" % c.score(_95scX_test, _95scy_test))"
   ]
  },
  {
   "cell_type": "markdown",
   "metadata": {
    "hidden": true
   },
   "source": [
    "### Logistic Regression"
   ]
  },
  {
   "cell_type": "code",
   "execution_count": 201,
   "metadata": {
    "ExecuteTime": {
     "end_time": "2017-11-03T07:38:02.318514Z",
     "start_time": "2017-11-03T07:38:02.091819Z"
    },
    "hidden": true
   },
   "outputs": [
    {
     "name": "stdout",
     "output_type": "stream",
     "text": [
      "[[2224    0]\n",
      " [ 113    0]]\n",
      "             precision    recall  f1-score   support\n",
      "\n",
      "          0       0.95      1.00      0.98      2224\n",
      "          1       0.00      0.00      0.00       113\n",
      "\n",
      "avg / total       0.91      0.95      0.93      2337\n",
      "\n",
      "Accuracy of logistic regression classifier on test set: 0.95\n"
     ]
    },
    {
     "name": "stderr",
     "output_type": "stream",
     "text": [
      "/Users/skiparay/miniconda3/lib/python3.6/site-packages/sklearn/metrics/classification.py:1135: UndefinedMetricWarning: Precision and F-score are ill-defined and being set to 0.0 in labels with no predicted samples.\n",
      "  'precision', 'predicted', average, warn_for)\n"
     ]
    }
   ],
   "source": [
    "from sklearn.linear_model import LogisticRegression\n",
    "from sklearn.cross_validation import train_test_split\n",
    "from sklearn import metrics\n",
    "from sklearn.metrics import confusion_matrix\n",
    "from sklearn.metrics import classification_report\n",
    "\n",
    "datauniquenum1 = pd.get_dummies(datauniquenum1)\n",
    "X_train, X_test, y_train, y_test = train_test_split(datauniquenum1.iloc[:,13:], datauniquenum1['Score_95th_percentile'], test_size=0.3, random_state=0)\n",
    "\n",
    "classifier = LogisticRegression()\n",
    "classifier.fit(X_train,y_train)\n",
    "y_pred = classifier.predict(X_test)\n",
    " \n",
    "confusion_matrix = confusion_matrix(y_test,y_pred)\n",
    "print(confusion_matrix)\n",
    "print(classification_report(y_test,y_pred))\n",
    "print('Accuracy of logistic regression classifier on test set: {:.2f}'.format(classifier.score(X_test, y_test)))"
   ]
  },
  {
   "cell_type": "markdown",
   "metadata": {},
   "source": [
    "# All together now (Comments)"
   ]
  },
  {
   "cell_type": "code",
   "execution_count": 235,
   "metadata": {
    "ExecuteTime": {
     "end_time": "2017-11-03T08:14:08.201681Z",
     "start_time": "2017-11-03T08:14:08.180645Z"
    }
   },
   "outputs": [
    {
     "data": {
      "text/html": [
       "<div>\n",
       "<style>\n",
       "    .dataframe thead tr:only-child th {\n",
       "        text-align: right;\n",
       "    }\n",
       "\n",
       "    .dataframe thead th {\n",
       "        text-align: left;\n",
       "    }\n",
       "\n",
       "    .dataframe tbody tr th {\n",
       "        vertical-align: top;\n",
       "    }\n",
       "</style>\n",
       "<table border=\"1\" class=\"dataframe\">\n",
       "  <thead>\n",
       "    <tr style=\"text-align: right;\">\n",
       "      <th></th>\n",
       "      <th>comments</th>\n",
       "      <th>score</th>\n",
       "      <th>post_time_hours</th>\n",
       "      <th>rank</th>\n",
       "      <th>crossposts</th>\n",
       "      <th>Comments_25th_percentile</th>\n",
       "      <th>Comments_Median</th>\n",
       "      <th>Comments_75th_percentile</th>\n",
       "      <th>Comments_95th_percentile</th>\n",
       "      <th>Score_25th_percentile</th>\n",
       "      <th>...</th>\n",
       "      <th>subreddit_yourmomshousepodcast</th>\n",
       "      <th>subreddit_youseeingthisshit</th>\n",
       "      <th>subreddit_youtube</th>\n",
       "      <th>subreddit_youtubehaiku</th>\n",
       "      <th>subreddit_zelda</th>\n",
       "      <th>subreddit_zuckmemes</th>\n",
       "      <th>post_day_of_week_Monday</th>\n",
       "      <th>post_day_of_week_Thursday</th>\n",
       "      <th>post_day_of_week_Tuesday</th>\n",
       "      <th>post_day_of_week_Wednesday</th>\n",
       "    </tr>\n",
       "  </thead>\n",
       "  <tbody>\n",
       "    <tr>\n",
       "      <th>0</th>\n",
       "      <td>5419</td>\n",
       "      <td>15315</td>\n",
       "      <td>1900</td>\n",
       "      <td>1</td>\n",
       "      <td>0</td>\n",
       "      <td>1</td>\n",
       "      <td>1</td>\n",
       "      <td>1</td>\n",
       "      <td>1</td>\n",
       "      <td>1</td>\n",
       "      <td>...</td>\n",
       "      <td>0</td>\n",
       "      <td>0</td>\n",
       "      <td>0</td>\n",
       "      <td>0</td>\n",
       "      <td>0</td>\n",
       "      <td>0</td>\n",
       "      <td>0</td>\n",
       "      <td>0</td>\n",
       "      <td>1</td>\n",
       "      <td>0</td>\n",
       "    </tr>\n",
       "    <tr>\n",
       "      <th>1</th>\n",
       "      <td>811</td>\n",
       "      <td>77648</td>\n",
       "      <td>1800</td>\n",
       "      <td>2</td>\n",
       "      <td>0</td>\n",
       "      <td>1</td>\n",
       "      <td>1</td>\n",
       "      <td>1</td>\n",
       "      <td>1</td>\n",
       "      <td>1</td>\n",
       "      <td>...</td>\n",
       "      <td>0</td>\n",
       "      <td>0</td>\n",
       "      <td>0</td>\n",
       "      <td>0</td>\n",
       "      <td>0</td>\n",
       "      <td>0</td>\n",
       "      <td>0</td>\n",
       "      <td>0</td>\n",
       "      <td>1</td>\n",
       "      <td>0</td>\n",
       "    </tr>\n",
       "    <tr>\n",
       "      <th>2</th>\n",
       "      <td>62</td>\n",
       "      <td>8202</td>\n",
       "      <td>1800</td>\n",
       "      <td>3</td>\n",
       "      <td>0</td>\n",
       "      <td>1</td>\n",
       "      <td>1</td>\n",
       "      <td>1</td>\n",
       "      <td>0</td>\n",
       "      <td>1</td>\n",
       "      <td>...</td>\n",
       "      <td>0</td>\n",
       "      <td>0</td>\n",
       "      <td>0</td>\n",
       "      <td>0</td>\n",
       "      <td>0</td>\n",
       "      <td>0</td>\n",
       "      <td>0</td>\n",
       "      <td>0</td>\n",
       "      <td>1</td>\n",
       "      <td>0</td>\n",
       "    </tr>\n",
       "    <tr>\n",
       "      <th>3</th>\n",
       "      <td>678</td>\n",
       "      <td>21656</td>\n",
       "      <td>1700</td>\n",
       "      <td>4</td>\n",
       "      <td>0</td>\n",
       "      <td>1</td>\n",
       "      <td>1</td>\n",
       "      <td>1</td>\n",
       "      <td>1</td>\n",
       "      <td>1</td>\n",
       "      <td>...</td>\n",
       "      <td>0</td>\n",
       "      <td>0</td>\n",
       "      <td>0</td>\n",
       "      <td>0</td>\n",
       "      <td>0</td>\n",
       "      <td>0</td>\n",
       "      <td>0</td>\n",
       "      <td>0</td>\n",
       "      <td>1</td>\n",
       "      <td>0</td>\n",
       "    </tr>\n",
       "    <tr>\n",
       "      <th>4</th>\n",
       "      <td>563</td>\n",
       "      <td>12019</td>\n",
       "      <td>1700</td>\n",
       "      <td>5</td>\n",
       "      <td>0</td>\n",
       "      <td>1</td>\n",
       "      <td>1</td>\n",
       "      <td>1</td>\n",
       "      <td>1</td>\n",
       "      <td>1</td>\n",
       "      <td>...</td>\n",
       "      <td>0</td>\n",
       "      <td>0</td>\n",
       "      <td>0</td>\n",
       "      <td>0</td>\n",
       "      <td>0</td>\n",
       "      <td>0</td>\n",
       "      <td>0</td>\n",
       "      <td>0</td>\n",
       "      <td>1</td>\n",
       "      <td>0</td>\n",
       "    </tr>\n",
       "  </tbody>\n",
       "</table>\n",
       "<p>5 rows × 1614 columns</p>\n",
       "</div>"
      ],
      "text/plain": [
       "   comments  score  post_time_hours  rank  crossposts  \\\n",
       "0      5419  15315             1900     1           0   \n",
       "1       811  77648             1800     2           0   \n",
       "2        62   8202             1800     3           0   \n",
       "3       678  21656             1700     4           0   \n",
       "4       563  12019             1700     5           0   \n",
       "\n",
       "   Comments_25th_percentile  Comments_Median  Comments_75th_percentile  \\\n",
       "0                         1                1                         1   \n",
       "1                         1                1                         1   \n",
       "2                         1                1                         1   \n",
       "3                         1                1                         1   \n",
       "4                         1                1                         1   \n",
       "\n",
       "   Comments_95th_percentile  Score_25th_percentile  \\\n",
       "0                         1                      1   \n",
       "1                         1                      1   \n",
       "2                         0                      1   \n",
       "3                         1                      1   \n",
       "4                         1                      1   \n",
       "\n",
       "              ...              subreddit_yourmomshousepodcast  \\\n",
       "0             ...                                           0   \n",
       "1             ...                                           0   \n",
       "2             ...                                           0   \n",
       "3             ...                                           0   \n",
       "4             ...                                           0   \n",
       "\n",
       "   subreddit_youseeingthisshit  subreddit_youtube  subreddit_youtubehaiku  \\\n",
       "0                            0                  0                       0   \n",
       "1                            0                  0                       0   \n",
       "2                            0                  0                       0   \n",
       "3                            0                  0                       0   \n",
       "4                            0                  0                       0   \n",
       "\n",
       "   subreddit_zelda  subreddit_zuckmemes  post_day_of_week_Monday  \\\n",
       "0                0                    0                        0   \n",
       "1                0                    0                        0   \n",
       "2                0                    0                        0   \n",
       "3                0                    0                        0   \n",
       "4                0                    0                        0   \n",
       "\n",
       "   post_day_of_week_Thursday  post_day_of_week_Tuesday  \\\n",
       "0                          0                         1   \n",
       "1                          0                         1   \n",
       "2                          0                         1   \n",
       "3                          0                         1   \n",
       "4                          0                         1   \n",
       "\n",
       "   post_day_of_week_Wednesday  \n",
       "0                           0  \n",
       "1                           0  \n",
       "2                           0  \n",
       "3                           0  \n",
       "4                           0  \n",
       "\n",
       "[5 rows x 1614 columns]"
      ]
     },
     "execution_count": 235,
     "metadata": {},
     "output_type": "execute_result"
    }
   ],
   "source": [
    "datauniquenum1.head()"
   ]
  },
  {
   "cell_type": "code",
   "execution_count": 243,
   "metadata": {
    "ExecuteTime": {
     "end_time": "2017-11-03T08:17:57.056191Z",
     "start_time": "2017-11-03T08:17:49.319063Z"
    }
   },
   "outputs": [
    {
     "name": "stdout",
     "output_type": "stream",
     "text": [
      "[[108  14   2 ...,   0   0   0]\n",
      " [ 88  29   3 ...,   0   0   0]\n",
      " [ 41  32   1 ...,   0   0   0]\n",
      " ..., \n",
      " [  0   0   0 ...,   0   0   0]\n",
      " [  0   0   0 ...,   0   0   0]\n",
      " [  0   0   0 ...,   0   0   0]]\n",
      "             precision    recall  f1-score   support\n",
      "\n",
      "          0       0.22      0.81      0.34       133\n",
      "          1       0.08      0.20      0.11       145\n",
      "          2       0.02      0.01      0.01        95\n",
      "          3       0.05      0.21      0.08        90\n",
      "          4       0.00      0.00      0.00       102\n",
      "          5       0.04      0.18      0.07        87\n",
      "          6       0.00      0.00      0.00        97\n",
      "          7       0.00      0.00      0.00        75\n",
      "          8       0.03      0.09      0.05        70\n",
      "          9       0.02      0.03      0.03        62\n",
      "         10       0.02      0.01      0.02        71\n",
      "         11       0.00      0.00      0.00        53\n",
      "         12       0.00      0.00      0.00        50\n",
      "         13       0.00      0.00      0.00        38\n",
      "         14       0.00      0.00      0.00        38\n",
      "         15       0.00      0.00      0.00        32\n",
      "         16       0.00      0.00      0.00        38\n",
      "         17       0.00      0.00      0.00        40\n",
      "         18       0.00      0.00      0.00        25\n",
      "         19       0.00      0.00      0.00        33\n",
      "         20       0.00      0.00      0.00        35\n",
      "         21       0.01      0.10      0.02        21\n",
      "         22       0.00      0.00      0.00        25\n",
      "         23       0.00      0.00      0.00        22\n",
      "         24       0.00      0.00      0.00        22\n",
      "         25       0.00      0.00      0.00        20\n",
      "         26       0.00      0.00      0.00        20\n",
      "         27       0.00      0.00      0.00        13\n",
      "         28       0.00      0.00      0.00        14\n",
      "         29       0.00      0.00      0.00        20\n",
      "         30       0.00      0.00      0.00        21\n",
      "         31       0.00      0.00      0.00        19\n",
      "         32       0.00      0.00      0.00        18\n",
      "         33       0.00      0.00      0.00        12\n",
      "         34       0.00      0.00      0.00        12\n",
      "         35       0.00      0.00      0.00        12\n",
      "         36       0.00      0.00      0.00        16\n",
      "         37       0.00      0.00      0.00        17\n",
      "         38       0.00      0.00      0.00        10\n",
      "         39       0.00      0.00      0.00        11\n",
      "         40       0.00      0.00      0.00         8\n",
      "         41       0.00      0.00      0.00        11\n",
      "         42       0.00      0.00      0.00        13\n",
      "         43       0.00      0.00      0.00        17\n",
      "         44       0.00      0.00      0.00        12\n",
      "         45       0.00      0.00      0.00         6\n",
      "         46       0.00      0.00      0.00        12\n",
      "         47       0.00      0.00      0.00         8\n",
      "         48       0.00      0.00      0.00         5\n",
      "         49       0.00      0.00      0.00         5\n",
      "         50       0.00      0.00      0.00         6\n",
      "         51       0.00      0.00      0.00         5\n",
      "         52       0.00      0.00      0.00         2\n",
      "         53       0.00      0.00      0.00        11\n",
      "         54       0.00      0.00      0.00         9\n",
      "         55       0.00      0.00      0.00         5\n",
      "         56       0.00      0.00      0.00        13\n",
      "         57       0.00      0.00      0.00         9\n",
      "         58       0.00      0.00      0.00         3\n",
      "         59       0.00      0.00      0.00        14\n",
      "         60       0.00      0.00      0.00        13\n",
      "         61       0.00      0.00      0.00         5\n",
      "         62       0.00      0.00      0.00         4\n",
      "         63       0.00      0.00      0.00         8\n",
      "         64       0.00      0.00      0.00         6\n",
      "         65       0.00      0.00      0.00         6\n",
      "         66       0.00      0.00      0.00         6\n",
      "         67       0.00      0.00      0.00         0\n",
      "         68       0.00      0.00      0.00         4\n",
      "         69       0.00      0.00      0.00         6\n",
      "         70       0.00      0.00      0.00         2\n",
      "         71       0.00      0.00      0.00         7\n",
      "         72       0.00      0.00      0.00         5\n",
      "         73       0.00      0.00      0.00         2\n",
      "         74       0.00      0.00      0.00         2\n",
      "         75       0.00      0.00      0.00         3\n",
      "         76       0.00      0.00      0.00         5\n",
      "         77       0.00      0.00      0.00         3\n",
      "         78       0.00      0.00      0.00         3\n",
      "         79       0.00      0.00      0.00         3\n",
      "         80       0.00      0.00      0.00         6\n",
      "         81       0.00      0.00      0.00         3\n",
      "         82       0.00      0.00      0.00         4\n",
      "         83       0.00      0.00      0.00         4\n",
      "         84       0.00      0.00      0.00         1\n",
      "         85       0.00      0.00      0.00         4\n",
      "         86       0.00      0.00      0.00         3\n",
      "         87       0.00      0.00      0.00         9\n",
      "         88       0.00      0.00      0.00         3\n",
      "         89       0.00      0.00      0.00         1\n",
      "         90       0.00      0.00      0.00         3\n",
      "         91       0.00      0.00      0.00         3\n",
      "         92       0.00      0.00      0.00         3\n",
      "         93       0.00      0.00      0.00         1\n",
      "         94       0.00      0.00      0.00         2\n",
      "         95       0.00      0.00      0.00         5\n",
      "         96       0.00      0.00      0.00         1\n",
      "         97       0.00      0.00      0.00         3\n",
      "         98       0.00      0.00      0.00         3\n",
      "         99       0.00      0.00      0.00         2\n",
      "        100       0.00      0.00      0.00         1\n",
      "        101       0.00      0.00      0.00         5\n",
      "        102       0.00      0.00      0.00         7\n",
      "        103       0.00      0.00      0.00         2\n",
      "        104       0.00      0.00      0.00         2\n",
      "        105       0.00      0.00      0.00         2\n",
      "        106       0.00      0.00      0.00         3\n",
      "        107       0.00      0.00      0.00         1\n",
      "        108       0.00      0.00      0.00         2\n",
      "        109       0.00      0.00      0.00         2\n",
      "        110       0.00      0.00      0.00         2\n",
      "        111       0.00      0.00      0.00         1\n",
      "        113       0.00      0.00      0.00         3\n",
      "        114       0.00      0.00      0.00         3\n",
      "        115       0.00      0.00      0.00         2\n",
      "        116       0.00      0.00      0.00         1\n",
      "        118       0.00      0.00      0.00         3\n",
      "        119       0.00      0.00      0.00         2\n",
      "        120       0.00      0.00      0.00         1\n",
      "        121       0.00      0.00      0.00         1\n",
      "        122       0.00      0.00      0.00         3\n",
      "        123       0.00      0.00      0.00         1\n",
      "        124       0.00      0.00      0.00         1\n",
      "        125       0.00      0.00      0.00         2\n",
      "        127       0.00      0.00      0.00         1\n",
      "        129       0.00      0.00      0.00         2\n",
      "        130       0.00      0.00      0.00         1\n",
      "        131       0.00      0.00      0.00         2\n",
      "        132       0.00      0.00      0.00         3\n",
      "        135       0.00      0.00      0.00         3\n",
      "        136       0.00      0.00      0.00         2\n",
      "        137       0.00      0.00      0.00         1\n",
      "        138       0.00      0.00      0.00         4\n",
      "        140       0.00      0.00      0.00         1\n",
      "        141       0.00      0.00      0.00         1\n",
      "        142       0.00      0.00      0.00         1\n",
      "        143       0.00      0.00      0.00         2\n",
      "        145       0.00      0.00      0.00         2\n",
      "        146       0.00      0.00      0.00         2\n",
      "        147       0.00      0.00      0.00         3\n",
      "        148       0.00      0.00      0.00         1\n",
      "        149       0.00      0.00      0.00         2\n",
      "        150       0.00      0.00      0.00         2\n",
      "        151       0.00      0.00      0.00         1\n",
      "        152       0.00      0.00      0.00         1\n",
      "        153       0.00      0.00      0.00         1\n",
      "        154       0.00      0.00      0.00         1\n",
      "        155       0.00      0.00      0.00         2\n",
      "        156       0.00      0.00      0.00         1\n",
      "        160       0.00      0.00      0.00         1\n",
      "        161       0.00      0.00      0.00         3\n",
      "        163       0.00      0.00      0.00         1\n",
      "        164       0.00      0.00      0.00         1\n",
      "        165       0.00      0.00      0.00         1\n",
      "        167       0.00      0.00      0.00         3\n",
      "        168       0.00      0.00      0.00         1\n",
      "        170       0.00      0.00      0.00         1\n",
      "        171       0.00      0.00      0.00         2\n",
      "        173       0.00      0.00      0.00         1\n",
      "        174       0.00      0.00      0.00         2\n",
      "        176       0.00      0.00      0.00         2\n",
      "        177       0.00      0.00      0.00         1\n",
      "        178       0.00      0.00      0.00         2\n",
      "        179       0.00      0.00      0.00         1\n",
      "        180       0.00      0.00      0.00         1\n",
      "        182       0.00      0.00      0.00         1\n",
      "        184       0.00      0.00      0.00         1\n",
      "        185       0.00      0.00      0.00         2\n",
      "        188       0.00      0.00      0.00         2\n",
      "        190       0.00      0.00      0.00         1\n",
      "        191       0.00      0.00      0.00         1\n",
      "        192       0.00      0.00      0.00         1\n",
      "        193       0.00      0.00      0.00         1\n",
      "        194       0.00      0.00      0.00         4\n",
      "        195       0.00      0.00      0.00         1\n",
      "        196       0.00      0.00      0.00         2\n",
      "        198       0.00      0.00      0.00         1\n",
      "        202       0.00      0.00      0.00         1\n",
      "        207       0.00      0.00      0.00         2\n",
      "        208       0.00      0.00      0.00         1\n",
      "        210       0.00      0.00      0.00         1\n",
      "        212       0.00      0.00      0.00         1\n",
      "        213       0.00      0.00      0.00         1\n",
      "        215       0.00      0.00      0.00         3\n",
      "        222       0.00      0.00      0.00         2\n",
      "        223       0.00      0.00      0.00         1\n",
      "        224       0.00      0.00      0.00         3\n",
      "        231       0.00      0.00      0.00         2\n",
      "        233       0.00      0.00      0.00         1\n",
      "        236       0.00      0.00      0.00         1\n",
      "        240       0.00      0.00      0.00         1\n",
      "        244       0.00      0.00      0.00         1\n",
      "        247       0.00      0.00      0.00         1\n",
      "        250       0.00      0.00      0.00         1\n",
      "        253       0.00      0.00      0.00         1\n",
      "        256       0.00      0.00      0.00         0\n",
      "        257       0.00      0.00      0.00         1\n",
      "        260       0.00      0.00      0.00         1\n",
      "        262       0.00      0.00      0.00         1\n",
      "        267       0.00      0.00      0.00         1\n",
      "        270       0.00      0.00      0.00         2\n",
      "        275       0.00      0.00      0.00         1\n",
      "        283       0.00      0.00      0.00         1\n",
      "        292       0.00      0.00      0.00         1\n",
      "        294       0.00      0.00      0.00         1\n",
      "        297       0.00      0.00      0.00         2\n",
      "        298       0.00      0.00      0.00         1\n",
      "        299       0.00      0.00      0.00         1\n",
      "        304       0.00      0.00      0.00         1\n",
      "        307       0.00      0.00      0.00         1\n",
      "        311       0.00      0.00      0.00         1\n",
      "        313       0.00      0.00      0.00         1\n",
      "        316       0.00      0.00      0.00         3\n",
      "        318       0.00      0.00      0.00         1\n",
      "        319       0.00      0.00      0.00         1\n",
      "        322       0.00      0.00      0.00         1\n",
      "        326       0.00      0.00      0.00         2\n",
      "        328       0.00      0.00      0.00         1\n",
      "        329       0.00      0.00      0.00         1\n",
      "        331       0.00      0.00      0.00         2\n",
      "        344       0.00      0.00      0.00         2\n",
      "        346       0.00      0.00      0.00         1\n",
      "        347       0.00      0.00      0.00         1\n",
      "        350       0.00      0.00      0.00         1\n",
      "        360       0.00      0.00      0.00         1\n",
      "        364       0.00      0.00      0.00         1\n",
      "        366       0.00      0.00      0.00         1\n",
      "        369       0.00      0.00      0.00         1\n",
      "        387       0.00      0.00      0.00         1\n",
      "        388       0.00      0.00      0.00         2\n",
      "        394       0.00      0.00      0.00         1\n",
      "        395       0.00      0.00      0.00         1\n",
      "        399       0.00      0.00      0.00         1\n",
      "        403       0.00      0.00      0.00         1\n",
      "        405       0.00      0.00      0.00         1\n",
      "        419       0.00      0.00      0.00         1\n",
      "        427       0.00      0.00      0.00         1\n",
      "        435       0.00      0.00      0.00         1\n",
      "        437       0.00      0.00      0.00         1\n",
      "        440       0.00      0.00      0.00         1\n",
      "        451       0.00      0.00      0.00         1\n",
      "        492       0.00      0.00      0.00         2\n",
      "        510       0.00      0.00      0.00         1\n",
      "        515       0.00      0.00      0.00         1\n",
      "        526       0.00      0.00      0.00         1\n",
      "        530       0.00      0.00      0.00         1\n",
      "        533       0.00      0.00      0.00         1\n",
      "        537       0.00      0.00      0.00         1\n",
      "        542       0.00      0.00      0.00         1\n",
      "        572       0.00      0.00      0.00         1\n",
      "        581       0.00      0.00      0.00         1\n",
      "        602       0.00      0.00      0.00         1\n",
      "        609       0.00      0.00      0.00         1\n",
      "        610       0.00      0.00      0.00         1\n",
      "        613       0.00      0.00      0.00         1\n",
      "        619       0.00      0.00      0.00         1\n",
      "        634       0.00      0.00      0.00         1\n",
      "        642       0.00      0.00      0.00         1\n",
      "        643       0.00      0.00      0.00         1\n",
      "        647       0.00      0.00      0.00         1\n",
      "        672       0.00      0.00      0.00         1\n",
      "        678       0.00      0.00      0.00         1\n",
      "        688       0.00      0.00      0.00         1\n",
      "        694       0.00      0.00      0.00         1\n",
      "        696       0.00      0.00      0.00         1\n",
      "        718       0.00      0.00      0.00         1\n",
      "        738       0.00      0.00      0.00         1\n",
      "        760       0.00      0.00      0.00         1\n",
      "        762       0.00      0.00      0.00         1\n",
      "        764       0.00      0.00      0.00         1\n",
      "        765       0.00      0.00      0.00         1\n",
      "        782       0.00      0.00      0.00         1\n",
      "        807       0.00      0.00      0.00         1\n",
      "        811       0.00      0.00      0.00         1\n",
      "        846       0.00      0.00      0.00         1\n",
      "        872       0.00      0.00      0.00         2\n",
      "        884       0.00      0.00      0.00         1\n",
      "        907       0.00      0.00      0.00         1\n",
      "        909       0.00      0.00      0.00         1\n",
      "        944       0.00      0.00      0.00         0\n",
      "        950       0.00      0.00      0.00         1\n",
      "        990       0.00      0.00      0.00         1\n",
      "        991       0.00      0.00      0.00         1\n",
      "       1001       0.00      0.00      0.00         1\n",
      "       1007       0.00      0.00      0.00         0\n",
      "       1070       0.00      0.00      0.00         1\n",
      "       1154       0.00      0.00      0.00         1\n",
      "       1289       0.00      0.00      0.00         1\n",
      "       1407       0.00      0.00      0.00         1\n",
      "       1500       0.00      0.00      0.00         1\n",
      "       1501       0.00      0.00      0.00         0\n",
      "       1555       0.00      0.00      0.00         1\n",
      "       1834       0.00      0.00      0.00         1\n",
      "       1929       0.00      0.00      0.00         1\n",
      "       2001       0.00      0.00      0.00         1\n",
      "       2653       0.00      0.00      0.00         1\n",
      "       3170       0.00      0.00      0.00         1\n",
      "       3761       0.00      0.00      0.00         1\n",
      "       4787       0.00      0.00      0.00         0\n",
      "\n",
      "avg / total       0.02      0.08      0.04      2337\n",
      "\n",
      "Accuracy of logistic regression classifier on test set: 0.08\n"
     ]
    },
    {
     "name": "stderr",
     "output_type": "stream",
     "text": [
      "/Users/skiparay/miniconda3/lib/python3.6/site-packages/sklearn/metrics/classification.py:1135: UndefinedMetricWarning: Precision and F-score are ill-defined and being set to 0.0 in labels with no predicted samples.\n",
      "  'precision', 'predicted', average, warn_for)\n",
      "/Users/skiparay/miniconda3/lib/python3.6/site-packages/sklearn/metrics/classification.py:1137: UndefinedMetricWarning: Recall and F-score are ill-defined and being set to 0.0 in labels with no true samples.\n",
      "  'recall', 'true', average, warn_for)\n"
     ]
    }
   ],
   "source": [
    "from sklearn.linear_model import LogisticRegression\n",
    "from sklearn.cross_validation import train_test_split\n",
    "from sklearn import metrics\n",
    "from sklearn.metrics import confusion_matrix\n",
    "from sklearn.metrics import classification_report\n",
    "\n",
    "datauniquenum1 = pd.get_dummies(datauniquenum1)\n",
    "X_train, X_test, y_train, y_test = train_test_split(datauniquenum1[['post_time_hours','crossposts', 'score']], datauniquenum1['comments'], test_size=0.3, random_state=0)\n",
    "\n",
    "classifier = LogisticRegression()\n",
    "classifier.fit(X_train,y_train)\n",
    "y_pred = classifier.predict(X_test)\n",
    " \n",
    "confusion_matrix = confusion_matrix(y_test,y_pred)\n",
    "print(confusion_matrix)\n",
    "print(classification_report(y_test,y_pred))\n",
    "print('Accuracy of logistic regression classifier on test set: {:.2f}'.format(classifier.score(X_test, y_test)))"
   ]
  },
  {
   "cell_type": "markdown",
   "metadata": {
    "heading_collapsed": true
   },
   "source": [
    "# Count Vectorizing the Post Titles"
   ]
  },
  {
   "cell_type": "code",
   "execution_count": 156,
   "metadata": {
    "ExecuteTime": {
     "end_time": "2017-11-03T07:03:02.225708Z",
     "start_time": "2017-11-03T07:03:02.074128Z"
    },
    "hidden": true
   },
   "outputs": [],
   "source": [
    "from sklearn.feature_extraction.text import CountVectorizer, HashingVectorizer\n",
    "from nltk.corpus import stopwords\n",
    "\n",
    "\n",
    "\n",
    "cvec = CountVectorizer(stop_words='english', max_features=1000)\n",
    "titledata = cvec.fit_transform(dataunique['title'])\n",
    "\n",
    "#Applying a limit here to make sure I don't get non-english characters"
   ]
  },
  {
   "cell_type": "code",
   "execution_count": 157,
   "metadata": {
    "ExecuteTime": {
     "end_time": "2017-11-03T07:03:12.077579Z",
     "start_time": "2017-11-03T07:03:12.051479Z"
    },
    "hidden": true
   },
   "outputs": [],
   "source": [
    "titleframe = pd.DataFrame(titledata.todense(), columns = cvec.get_feature_names())"
   ]
  },
  {
   "cell_type": "code",
   "execution_count": 143,
   "metadata": {
    "ExecuteTime": {
     "end_time": "2017-11-03T06:51:52.939568Z",
     "start_time": "2017-11-03T06:51:52.936305Z"
    },
    "hidden": true
   },
   "outputs": [
    {
     "data": {
      "text/plain": [
       "(8368, 21)"
      ]
     },
     "execution_count": 143,
     "metadata": {},
     "output_type": "execute_result"
    }
   ],
   "source": [
    "dataunique.shape"
   ]
  },
  {
   "cell_type": "code",
   "execution_count": 164,
   "metadata": {
    "ExecuteTime": {
     "end_time": "2017-11-03T07:11:30.414361Z",
     "start_time": "2017-11-03T07:11:30.204483Z"
    },
    "hidden": true
   },
   "outputs": [
    {
     "data": {
      "text/plain": [
       "11          4\n",
       "apple       4\n",
       "iphone      4\n",
       "come        4\n",
       "movie       4\n",
       "world       4\n",
       "series      4\n",
       "guys        4\n",
       "maybe       4\n",
       "favorite    4\n",
       "dtype: int64"
      ]
     },
     "execution_count": 164,
     "metadata": {},
     "output_type": "execute_result"
    }
   ],
   "source": [
    "titleframe.nunique().sort_values(ascending=False)[:10]"
   ]
  },
  {
   "cell_type": "code",
   "execution_count": 145,
   "metadata": {
    "ExecuteTime": {
     "end_time": "2017-11-03T06:52:08.231434Z",
     "start_time": "2017-11-03T06:52:08.151815Z"
    },
    "hidden": true
   },
   "outputs": [],
   "source": [
    "dataandtitle = dataunique.merge(titleframe, left_on=dataunique['Score_95th_percentile'], right_index=True)"
   ]
  },
  {
   "cell_type": "code",
   "execution_count": null,
   "metadata": {
    "ExecuteTime": {
     "end_time": "2017-11-03T01:55:42.431021Z",
     "start_time": "2017-11-03T01:55:39.151Z"
    },
    "hidden": true
   },
   "outputs": [],
   "source": [
    "dataandtitle.iloc[:,21:] #Just for my own personal info."
   ]
  },
  {
   "cell_type": "markdown",
   "metadata": {
    "heading_collapsed": true
   },
   "source": [
    "# Random Forest on New Dataframe"
   ]
  },
  {
   "cell_type": "code",
   "execution_count": 146,
   "metadata": {
    "ExecuteTime": {
     "end_time": "2017-11-03T06:52:30.118562Z",
     "start_time": "2017-11-03T06:52:30.073041Z"
    },
    "hidden": true
   },
   "outputs": [],
   "source": [
    "from sklearn.model_selection import train_test_split\n",
    "dataandtitleX_train, dataandtitleX_test, dataandtitley_train, dataandtitley_test = train_test_split(dataandtitle.iloc[:,21:], dataandtitle['score'], test_size=0.3, random_state=0)"
   ]
  },
  {
   "cell_type": "code",
   "execution_count": 147,
   "metadata": {
    "ExecuteTime": {
     "end_time": "2017-11-03T06:53:29.487144Z",
     "start_time": "2017-11-03T06:53:27.665777Z"
    },
    "hidden": true
   },
   "outputs": [
    {
     "name": "stderr",
     "output_type": "stream",
     "text": [
      "/Users/skiparay/miniconda3/lib/python3.6/site-packages/sklearn/cross_validation.py:553: Warning: The least populated class in y has only 1 members, which is too few. The minimum number of labels for any class cannot be less than n_folds=5.\n",
      "  % (min_labels, self.n_folds)), Warning)\n"
     ]
    },
    {
     "name": "stdout",
     "output_type": "stream",
     "text": [
      "Random Forest (Training) Score:\t0.01 ± 0.003\n",
      "Random Forest Accuracy: 0.009\n"
     ]
    }
   ],
   "source": [
    "from sklearn import preprocessing\n",
    "from sklearn.ensemble import RandomForestClassifier\n",
    "from sklearn.metrics import accuracy_score\n",
    "from sklearn.cross_validation import cross_val_score\n",
    "\n",
    "c = RandomForestClassifier(max_depth=5)\n",
    "d = cross_val_score(c, dataandtitleX_train, dataandtitley_train, cv=5, n_jobs=-1)\n",
    "print(\"{} Score:\\t{:0.3} ± {:0.3}\".format(\"Random Forest (Training)\", d.mean().round(3), d.std().round(3)))\n",
    "c.fit(dataandtitleX_train, dataandtitley_train)\n",
    "print(\"Random Forest Accuracy: %0.3f\" % c.score(dataandtitleX_test, dataandtitley_test))\n",
    "\n",
    "#Wow.  Thats...really bad.  Like REALLY bad."
   ]
  },
  {
   "cell_type": "markdown",
   "metadata": {},
   "source": [
    "# Executive Summary"
   ]
  },
  {
   "cell_type": "markdown",
   "metadata": {},
   "source": [
    "     Predictions made against the median of the data gave a slightly better than coin flip (~60%) chance that the subreddit is a good indicator of post success. However, if post falls within the range of 25th or 75th percentile, model accuracy imnproves to around 75%. If the post is in the 95th percentile of score and comment count, the subreddit is an extremely good indicator of post success.\n",
    "    \n",
    "    Post score and comment count appear to be heavily affected by time of day/day of week.  Posts made on Mondays, at or around 2300 UTC (1900 EST) saw the highest score and comment count. No model correlation was proved, however.\n",
    "    \n",
    "    Title words did not appear to have a substantial effect on post score/comment count.\n",
    "    \n",
    "    Analysis of reddit is extremely difficult due to the fluid nature of the site.  High ranking posts may only remain on the hot page for a limited amount of time before disappearing off the front page.  Furthermore, post score and the comment count are not always good predictors of one another.  Moderation rules differ from subreddit to subreddit, meaning that comment counts can vary widely depending upon how often the moderator chooses to delete comments. Due to the way reddit's score system works, which, in turn, heavily affects a posts visibility on the front page, it is eminently possible that a group could engineer a script to rig upvotes.  When combined with a fanbase, posts would be more likely to appear on the front page, even if they are not actually getting views.  A recent example of this occured during the 2016 presedential election when it was alleged that members of r/thedonald had been engaging vote brigarding in order to artificially inflate the score value. Despite changes to the algorithim governing how \n",
    "    \n",
    "    In short, were one of a less ethical bent, one could engineer a system whereby a post would gain maximum visibility without actually having had that many viewers/upvoters.\n",
    "    "
   ]
  }
 ],
 "metadata": {
  "kernelspec": {
   "display_name": "Python 3",
   "language": "python",
   "name": "python3"
  },
  "language_info": {
   "codemirror_mode": {
    "name": "ipython",
    "version": 3
   },
   "file_extension": ".py",
   "mimetype": "text/x-python",
   "name": "python",
   "nbconvert_exporter": "python",
   "pygments_lexer": "ipython3",
   "version": "3.6.3"
  },
  "toc": {
   "nav_menu": {},
   "number_sections": true,
   "sideBar": true,
   "skip_h1_title": false,
   "toc_cell": false,
   "toc_position": {},
   "toc_section_display": "block",
   "toc_window_display": false
  },
  "varInspector": {
   "cols": {
    "lenName": 16,
    "lenType": 16,
    "lenVar": 40
   },
   "kernels_config": {
    "python": {
     "delete_cmd_postfix": "",
     "delete_cmd_prefix": "del ",
     "library": "var_list.py",
     "varRefreshCmd": "print(var_dic_list())"
    },
    "r": {
     "delete_cmd_postfix": ") ",
     "delete_cmd_prefix": "rm(",
     "library": "var_list.r",
     "varRefreshCmd": "cat(var_dic_list()) "
    }
   },
   "types_to_exclude": [
    "module",
    "function",
    "builtin_function_or_method",
    "instance",
    "_Feature"
   ],
   "window_display": false
  }
 },
 "nbformat": 4,
 "nbformat_minor": 2
}
